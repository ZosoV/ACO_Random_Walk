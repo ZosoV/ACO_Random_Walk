{
 "cells": [
  {
   "cell_type": "markdown",
   "id": "a9179a10",
   "metadata": {},
   "source": [
    "<a href=\"https://colab.research.google.com/github/ZosoV/aco_random_walk/blob/main/notebooks/display_results_rw.ipynb\" target=\"_parent\"><img src=\"https://colab.research.google.com/assets/colab-badge.svg\" alt=\"Open In Colab\"/></a>\n",
    "\n",
    "# Display Results\n",
    "\n",
    "In this notebook, you can find some results of our work"
   ]
  },
  {
   "cell_type": "code",
   "execution_count": 1,
   "id": "f00952db",
   "metadata": {},
   "outputs": [
    {
     "name": "stdout",
     "output_type": "stream",
     "text": [
      "/home/israel.pineda/oscar/aco_random_walk\n"
     ]
    }
   ],
   "source": [
    "COLAB_ENV = False\n",
    "\n",
    "if COLAB_ENV:\n",
    "    from google.colab import drive\n",
    "    drive.mount('/content/gdrive')\n",
    "    %cd /content/gdrive/MyDrive/Proyectos/aco_random_walk/\n",
    "else:\n",
    "    #%cd /home/zosov/ACO_Random_Walk\n",
    "    %cd /home/israel.pineda/oscar/aco_random_walk/"
   ]
  },
  {
   "cell_type": "code",
   "execution_count": 2,
   "id": "ce84e08c",
   "metadata": {},
   "outputs": [
    {
     "name": "stdout",
     "output_type": "stream",
     "text": [
      "histories_greedy_params_q_0\t      histories_params_proximity_dif_size\r\n",
      "histories_levy_greedy_params_omega    histories_params_q_0\r\n",
      "histories_levy_proximity_paramas_q_0  histories_proximity_paramas_q_0\r\n",
      "histories_params_p\t\t      histories_rw_greedy_params_q_0\r\n",
      "histories_params_penalty\t      histories_rw_levy_greedy_params_omega\r\n",
      "histories_params_penalty_dif_size     histories_rw_levy_proximity_params_q_0\r\n",
      "histories_params_penalty_p_0-3\t      histories_rw_proximity_params_q_0\r\n",
      "histories_params_penalty_reduced      random_walks\r\n"
     ]
    }
   ],
   "source": [
    "!ls stuff/results/aco_pp"
   ]
  },
  {
   "cell_type": "code",
   "execution_count": 3,
   "id": "0020b599",
   "metadata": {},
   "outputs": [],
   "source": [
    "import matplotlib.pyplot as plt\n",
    "from matplotlib.pyplot import figure\n",
    "import numpy as np\n",
    "import os\n",
    "import glob\n",
    "import pandas as pd\n",
    "import seaborn as sns\n"
   ]
  },
  {
   "cell_type": "code",
   "execution_count": 4,
   "id": "31199aa8",
   "metadata": {},
   "outputs": [],
   "source": [
    "RESULTS_DIR = \"stuff/results/aco_pp\"\n",
    "SAVE_DIR = \"stuff/results/plots\"\n",
    "EXPERIMENT_FILE = \"stuff/experiments/rw_experiments_1.xlsx\""
   ]
  },
  {
   "cell_type": "code",
   "execution_count": 5,
   "id": "d1f315fb",
   "metadata": {},
   "outputs": [],
   "source": [
    "#@title Handy Functions    \n",
    "def plot_many_distances(data, x_values = [], legend_labels = [], \n",
    "                        legend_title = \"var params\",  title = \"\", \n",
    "                        save = False , name2save = \"default\",\n",
    "                        ylim = None, list_x = None):\n",
    "\n",
    "  markers = ['o','s','v','D','x','+','p','H','*','^','<','>','1','2','3','4','8','s','p','P','*','h','H','+','x','X','D','d','|','_']\n",
    "\n",
    "  # title = 'Average Distance vs Iterations \\n' + title\n",
    "  figure(figsize=(6, 5))#, dpi=80)\n",
    "  plt.title(title)\n",
    "  \n",
    "  i = 0\n",
    "  for label, distances in zip(legend_labels, data):\n",
    "    print(f\"min dist: {np.amin(distances)}\")\n",
    "    plt.plot(x_values, distances, \"-\", label = str(label), marker = markers[i])\n",
    "    i += 1\n",
    "\n",
    "  plt.legend(title=legend_title)\n",
    "  if ylim is not None:\n",
    "    plt.ylim(ylim[0], ylim[1])\n",
    "  if save: plt.savefig(os.path.join(SAVE_DIR,name2save + \".eps\"), format='eps')\n",
    "\n",
    "  plt.show()\n",
    "  plt.close()\n",
    "    \n",
    "#@title Handy Functions    \n",
    "def plot_many_distances_ax(ax, list_distances, legend_labels, \n",
    "                        legend_title = \"var params\",  title = \"\",\n",
    "                        set_ylabel = None,\n",
    "                        set_xlabel = None,\n",
    "                        ylim = None,\n",
    "                        disable_y_tick = False,\n",
    "                        optimal_distance = None):\n",
    "  #ax.grid(axis = 'y')\n",
    "  list_iterations = np.arange(0, len(list_distances[0]))\n",
    "\n",
    "  #title = r'Average Distance $\\langle x \\rangle$ vs Iterations'+' \\n' + title\n",
    "  \n",
    "  #figure(figsize=(6, 5))#, dpi=80)\n",
    "  ax.set_title(title)\n",
    "  \n",
    "  for label, distances in zip(legend_labels, list_distances):\n",
    "    print(f\"min dist: {np.amin(distances)}\")\n",
    "    ax.plot(list_iterations, distances, \"-\", label = str(label))\n",
    "  if optimal_distance is not None:\n",
    "      ax.plot(list_iterations, [optimal_distance] * len(list_iterations), \"b--\",linewidth=1.0, label = \"optimal distance\")\n",
    "  \n",
    "  if set_ylabel is not None:\n",
    "      ax.set_ylabel(set_ylabel, rotation=0, labelpad=10)\n",
    "  if set_xlabel is not None:\n",
    "      ax.set_xlabel(set_xlabel)\n",
    "  if disable_y_tick:\n",
    "      ax.set_yticks([])\n",
    "        \n",
    "  legend = ax.legend(title=legend_title, ncol=2, loc = 'upper right')\n",
    "  legend.get_frame().set_alpha(None)\n",
    "  legend.get_frame().set_facecolor((1, 1, 1, 0.1))\n",
    "  if ylim is not None:\n",
    "    ax.set_ylim(ylim[0], ylim[1])\n",
    "    "
   ]
  },
  {
   "cell_type": "markdown",
   "id": "df9c1488",
   "metadata": {},
   "source": [
    "## Plot Greedy Random Walk -> Vary $q_0$ and advantage"
   ]
  },
  {
   "cell_type": "code",
   "execution_count": 6,
   "id": "b0c4cf72",
   "metadata": {
    "scrolled": true
   },
   "outputs": [
    {
     "data": {
      "text/html": [
       "<div>\n",
       "<style scoped>\n",
       "    .dataframe tbody tr th:only-of-type {\n",
       "        vertical-align: middle;\n",
       "    }\n",
       "\n",
       "    .dataframe tbody tr th {\n",
       "        vertical-align: top;\n",
       "    }\n",
       "\n",
       "    .dataframe thead th {\n",
       "        text-align: right;\n",
       "    }\n",
       "</style>\n",
       "<table border=\"1\" class=\"dataframe\">\n",
       "  <thead>\n",
       "    <tr style=\"text-align: right;\">\n",
       "      <th></th>\n",
       "      <th>type</th>\n",
       "      <th>size</th>\n",
       "      <th>n_rw</th>\n",
       "      <th>advantage</th>\n",
       "      <th>q_0</th>\n",
       "    </tr>\n",
       "  </thead>\n",
       "  <tbody>\n",
       "    <tr>\n",
       "      <th>0</th>\n",
       "      <td>greedy</td>\n",
       "      <td>50</td>\n",
       "      <td>10000</td>\n",
       "      <td>2.0</td>\n",
       "      <td>0.0</td>\n",
       "    </tr>\n",
       "    <tr>\n",
       "      <th>1</th>\n",
       "      <td>greedy</td>\n",
       "      <td>50</td>\n",
       "      <td>10000</td>\n",
       "      <td>2.5</td>\n",
       "      <td>0.0</td>\n",
       "    </tr>\n",
       "    <tr>\n",
       "      <th>2</th>\n",
       "      <td>greedy</td>\n",
       "      <td>50</td>\n",
       "      <td>10000</td>\n",
       "      <td>3.0</td>\n",
       "      <td>0.0</td>\n",
       "    </tr>\n",
       "    <tr>\n",
       "      <th>3</th>\n",
       "      <td>greedy</td>\n",
       "      <td>50</td>\n",
       "      <td>10000</td>\n",
       "      <td>2.0</td>\n",
       "      <td>0.1</td>\n",
       "    </tr>\n",
       "    <tr>\n",
       "      <th>4</th>\n",
       "      <td>greedy</td>\n",
       "      <td>50</td>\n",
       "      <td>10000</td>\n",
       "      <td>2.5</td>\n",
       "      <td>0.1</td>\n",
       "    </tr>\n",
       "  </tbody>\n",
       "</table>\n",
       "</div>"
      ],
      "text/plain": [
       "     type  size   n_rw  advantage  q_0\n",
       "0  greedy    50  10000        2.0  0.0\n",
       "1  greedy    50  10000        2.5  0.0\n",
       "2  greedy    50  10000        3.0  0.0\n",
       "3  greedy    50  10000        2.0  0.1\n",
       "4  greedy    50  10000        2.5  0.1"
      ]
     },
     "execution_count": 6,
     "metadata": {},
     "output_type": "execute_result"
    }
   ],
   "source": [
    "sheet_name = \"rw_greedy_params_q_0\"\n",
    "params = pd.read_excel(EXPERIMENT_FILE, sheet_name=sheet_name).sort_values(['advantage','q_0'])\n",
    "params.head()"
   ]
  },
  {
   "cell_type": "code",
   "execution_count": 7,
   "id": "18ccceb5",
   "metadata": {},
   "outputs": [
    {
     "name": "stdout",
     "output_type": "stream",
     "text": [
      "history_exp_00.npy  history_exp_05.npy\thistory_exp_10.npy  history_exp_15.npy\r\n",
      "history_exp_01.npy  history_exp_06.npy\thistory_exp_11.npy  history_exp_16.npy\r\n",
      "history_exp_02.npy  history_exp_07.npy\thistory_exp_12.npy  history_exp_17.npy\r\n",
      "history_exp_03.npy  history_exp_08.npy\thistory_exp_13.npy\r\n",
      "history_exp_04.npy  history_exp_09.npy\thistory_exp_14.npy\r\n"
     ]
    }
   ],
   "source": [
    "!ls $RESULTS_DIR/histories_rw_greedy_params_q_0"
   ]
  },
  {
   "cell_type": "code",
   "execution_count": 8,
   "id": "90e5334b",
   "metadata": {},
   "outputs": [
    {
     "data": {
      "text/plain": [
       "(18, 3)"
      ]
     },
     "execution_count": 8,
     "metadata": {},
     "output_type": "execute_result"
    }
   ],
   "source": [
    "# plot histories_params_p\n",
    "EXECUTIONS = 10000\n",
    "\n",
    "\n",
    "res_dir = os.path.join(RESULTS_DIR, f\"histories_{sheet_name}\")\n",
    "\n",
    "temp_list = []\n",
    "for exp_idx, row in params.iterrows():\n",
    "    file_name = \"history_exp_{}.npy\".format(str(exp_idx).zfill(2))\n",
    "    file_name = os.path.join(res_dir, file_name)\n",
    "    arr = np.load(file_name, allow_pickle='TRUE').item()\n",
    "    temp_list.append([arr['mean'], arr['std'], arr['sem']])\n",
    "\n",
    "#temp_list\n",
    "data = np.array(temp_list)\n",
    "data.shape"
   ]
  },
  {
   "cell_type": "code",
   "execution_count": 9,
   "id": "5e39d7b6",
   "metadata": {},
   "outputs": [],
   "source": [
    "val1_name = 'advantage'\n",
    "val2_name = 'q_0'\n",
    "temp1 = []\n",
    "for i in params[val1_name].unique():\n",
    "    temp2 = []\n",
    "    for j in params[val2_name].unique():\n",
    "        temp_df = params[(params[val2_name] == j) & (params[val1_name] == i)]\n",
    "        row_id = temp_df.index[0]\n",
    "        temp2.append(data[row_id,0])\n",
    "    temp1.append(temp2)\n",
    "    \n",
    "test_data = np.array(temp1)"
   ]
  },
  {
   "cell_type": "code",
   "execution_count": 10,
   "id": "d04efbb6",
   "metadata": {
    "scrolled": true
   },
   "outputs": [
    {
     "name": "stdout",
     "output_type": "stream",
     "text": [
      "min dist: 106.0662\n",
      "min dist: 104.9948\n",
      "min dist: 104.1688\n"
     ]
    },
    {
     "data": {
      "image/png": "[encoded data removed]",
      "text/plain": [
       "<Figure size 432x360 with 1 Axes>"
      ]
     },
     "metadata": {
      "needs_background": "light"
     },
     "output_type": "display_data"
    }
   ],
   "source": [
    "plot_many_distances(data = test_data, \n",
    "                    x_values = params[val2_name].unique(), \n",
    "                    legend_labels = params[val1_name].unique(),\n",
    "                    legend_title = r'$\\omega$')"
   ]
  },
  {
   "cell_type": "code",
   "execution_count": 11,
   "id": "9e7ae21e",
   "metadata": {},
   "outputs": [
    {
     "data": {
      "text/plain": [
       "(18, 10000)"
      ]
     },
     "execution_count": 11,
     "metadata": {},
     "output_type": "execute_result"
    }
   ],
   "source": [
    "# plot histories_params_p\n",
    "EXECUTIONS = 10000\n",
    "\n",
    "\n",
    "res_dir = os.path.join(RESULTS_DIR, f\"histories_{sheet_name}\")\n",
    "\n",
    "temp_list = []\n",
    "for exp_idx, row in params.iterrows():\n",
    "    file_name = \"history_exp_{}.npy\".format(str(exp_idx).zfill(2))\n",
    "    file_name = os.path.join(res_dir, file_name)\n",
    "    arr = np.load(file_name, allow_pickle='TRUE').item()\n",
    "    temp_list.append(arr['distances'])\n",
    "\n",
    "#temp_list\n",
    "data = np.array(temp_list)\n",
    "data.shape\n",
    "\n",
    "#mean, std, sem"
   ]
  },
  {
   "cell_type": "code",
   "execution_count": 12,
   "id": "3a851be9",
   "metadata": {},
   "outputs": [
    {
     "data": {
      "text/html": [
       "<div>\n",
       "<style scoped>\n",
       "    .dataframe tbody tr th:only-of-type {\n",
       "        vertical-align: middle;\n",
       "    }\n",
       "\n",
       "    .dataframe tbody tr th {\n",
       "        vertical-align: top;\n",
       "    }\n",
       "\n",
       "    .dataframe thead th {\n",
       "        text-align: right;\n",
       "    }\n",
       "</style>\n",
       "<table border=\"1\" class=\"dataframe\">\n",
       "  <thead>\n",
       "    <tr style=\"text-align: right;\">\n",
       "      <th></th>\n",
       "      <th>distance</th>\n",
       "      <th>advantage</th>\n",
       "      <th>q_0</th>\n",
       "    </tr>\n",
       "  </thead>\n",
       "  <tbody>\n",
       "    <tr>\n",
       "      <th>0</th>\n",
       "      <td>476.0</td>\n",
       "      <td>2.0</td>\n",
       "      <td>0.0</td>\n",
       "    </tr>\n",
       "    <tr>\n",
       "      <th>1</th>\n",
       "      <td>322.0</td>\n",
       "      <td>2.0</td>\n",
       "      <td>0.0</td>\n",
       "    </tr>\n",
       "    <tr>\n",
       "      <th>2</th>\n",
       "      <td>422.0</td>\n",
       "      <td>2.0</td>\n",
       "      <td>0.0</td>\n",
       "    </tr>\n",
       "    <tr>\n",
       "      <th>3</th>\n",
       "      <td>314.0</td>\n",
       "      <td>2.0</td>\n",
       "      <td>0.0</td>\n",
       "    </tr>\n",
       "    <tr>\n",
       "      <th>4</th>\n",
       "      <td>262.0</td>\n",
       "      <td>2.0</td>\n",
       "      <td>0.0</td>\n",
       "    </tr>\n",
       "  </tbody>\n",
       "</table>\n",
       "</div>"
      ],
      "text/plain": [
       "   distance  advantage  q_0\n",
       "0     476.0        2.0  0.0\n",
       "1     322.0        2.0  0.0\n",
       "2     422.0        2.0  0.0\n",
       "3     314.0        2.0  0.0\n",
       "4     262.0        2.0  0.0"
      ]
     },
     "execution_count": 12,
     "metadata": {},
     "output_type": "execute_result"
    }
   ],
   "source": [
    "frames = []\n",
    "\n",
    "for i in range(len(data)):\n",
    "    tmp_df = pd.DataFrame(data[i], columns =['distance'])\n",
    "    tmp_df['advantage'] = params.loc[i]['advantage']\n",
    "    tmp_df['q_0'] = params.loc[i]['q_0']\n",
    "    tmp_df.head()\n",
    "    frames.append(tmp_df)\n",
    "    \n",
    "test_df = pd.concat(frames)\n",
    "test_df.head()"
   ]
  },
  {
   "cell_type": "code",
   "execution_count": 13,
   "id": "8ad584aa",
   "metadata": {},
   "outputs": [
    {
     "data": {
      "text/plain": [
       "Text(0, 0.5, '$\\\\langle x \\\\rangle$')"
      ]
     },
     "execution_count": 13,
     "metadata": {},
     "output_type": "execute_result"
    },
    {
     "data": {
      "image/png": "[encoded data removed]",
      "text/plain": [
       "<Figure size 432x288 with 1 Axes>"
      ]
     },
     "metadata": {
      "needs_background": "light"
     },
     "output_type": "display_data"
    }
   ],
   "source": [
    "ax = sns.violinplot(x=\"q_0\", y=\"distance\", hue=\"advantage\",\n",
    "                    data=test_df, palette=\"muted\")#, split=True)\n",
    "ax.set_ylim(90, 450)\n",
    "ax.set(xlabel=r'$q_0$')\n",
    "ax.legend(title=\"\")\n",
    "ax.set_ylabel(r\"$\\langle x \\rangle$\", rotation=0, labelpad=10)"
   ]
  },
  {
   "cell_type": "markdown",
   "id": "123a82f8",
   "metadata": {},
   "source": [
    "## Plot Proximity Random Walk -> Vary $q_0$ and proximity"
   ]
  },
  {
   "cell_type": "code",
   "execution_count": 14,
   "id": "17f8761b",
   "metadata": {
    "scrolled": true
   },
   "outputs": [
    {
     "data": {
      "text/html": [
       "<div>\n",
       "<style scoped>\n",
       "    .dataframe tbody tr th:only-of-type {\n",
       "        vertical-align: middle;\n",
       "    }\n",
       "\n",
       "    .dataframe tbody tr th {\n",
       "        vertical-align: top;\n",
       "    }\n",
       "\n",
       "    .dataframe thead th {\n",
       "        text-align: right;\n",
       "    }\n",
       "</style>\n",
       "<table border=\"1\" class=\"dataframe\">\n",
       "  <thead>\n",
       "    <tr style=\"text-align: right;\">\n",
       "      <th></th>\n",
       "      <th>type</th>\n",
       "      <th>size</th>\n",
       "      <th>n_rw</th>\n",
       "      <th>proximity</th>\n",
       "      <th>q_0</th>\n",
       "    </tr>\n",
       "  </thead>\n",
       "  <tbody>\n",
       "    <tr>\n",
       "      <th>0</th>\n",
       "      <td>proximity</td>\n",
       "      <td>50</td>\n",
       "      <td>10000</td>\n",
       "      <td>proximity_1</td>\n",
       "      <td>0.0</td>\n",
       "    </tr>\n",
       "    <tr>\n",
       "      <th>1</th>\n",
       "      <td>proximity</td>\n",
       "      <td>50</td>\n",
       "      <td>10000</td>\n",
       "      <td>proximity_2</td>\n",
       "      <td>0.0</td>\n",
       "    </tr>\n",
       "    <tr>\n",
       "      <th>2</th>\n",
       "      <td>proximity</td>\n",
       "      <td>50</td>\n",
       "      <td>10000</td>\n",
       "      <td>proximity_1</td>\n",
       "      <td>0.1</td>\n",
       "    </tr>\n",
       "    <tr>\n",
       "      <th>3</th>\n",
       "      <td>proximity</td>\n",
       "      <td>50</td>\n",
       "      <td>10000</td>\n",
       "      <td>proximity_2</td>\n",
       "      <td>0.1</td>\n",
       "    </tr>\n",
       "    <tr>\n",
       "      <th>4</th>\n",
       "      <td>proximity</td>\n",
       "      <td>50</td>\n",
       "      <td>10000</td>\n",
       "      <td>proximity_1</td>\n",
       "      <td>0.3</td>\n",
       "    </tr>\n",
       "  </tbody>\n",
       "</table>\n",
       "</div>"
      ],
      "text/plain": [
       "        type  size   n_rw    proximity  q_0\n",
       "0  proximity    50  10000  proximity_1  0.0\n",
       "1  proximity    50  10000  proximity_2  0.0\n",
       "2  proximity    50  10000  proximity_1  0.1\n",
       "3  proximity    50  10000  proximity_2  0.1\n",
       "4  proximity    50  10000  proximity_1  0.3"
      ]
     },
     "execution_count": 14,
     "metadata": {},
     "output_type": "execute_result"
    }
   ],
   "source": [
    "sheet_name = \"rw_proximity_params_q_0\"\n",
    "params = pd.read_excel(EXPERIMENT_FILE, sheet_name=sheet_name).sort_values(['q_0'])\n",
    "params.head()"
   ]
  },
  {
   "cell_type": "code",
   "execution_count": 15,
   "id": "c04724ba",
   "metadata": {},
   "outputs": [
    {
     "data": {
      "text/plain": [
       "(12, 3)"
      ]
     },
     "execution_count": 15,
     "metadata": {},
     "output_type": "execute_result"
    }
   ],
   "source": [
    "# plot histories_params_p\n",
    "EXECUTIONS = 10000\n",
    "\n",
    "\n",
    "res_dir = os.path.join(RESULTS_DIR, f\"histories_{sheet_name}\")\n",
    "\n",
    "temp_list = []\n",
    "for exp_idx, row in params.iterrows():\n",
    "    file_name = \"history_exp_{}.npy\".format(str(exp_idx).zfill(2))\n",
    "    file_name = os.path.join(res_dir, file_name)\n",
    "    arr = np.load(file_name, allow_pickle='TRUE').item()\n",
    "    temp_list.append([arr['mean'], arr['std'], arr['sem']])\n",
    "\n",
    "#temp_list\n",
    "data = np.array(temp_list)\n",
    "data.shape\n",
    "\n",
    "#mean, std, sem"
   ]
  },
  {
   "cell_type": "code",
   "execution_count": 16,
   "id": "ee8d6a5b",
   "metadata": {},
   "outputs": [],
   "source": [
    "val1_name = 'proximity'\n",
    "val2_name = 'q_0'\n",
    "temp1 = []\n",
    "for i in params[val1_name].unique():\n",
    "    temp2 = []\n",
    "    for j in params[val2_name].unique():\n",
    "        temp_df = params[(params[val2_name] == j) & (params[val1_name] == i)]\n",
    "        row_id = temp_df.index[0]\n",
    "        temp2.append(data[row_id,0])\n",
    "    temp1.append(temp2)\n",
    "    \n",
    "test_data = np.array(temp1)"
   ]
  },
  {
   "cell_type": "code",
   "execution_count": 17,
   "id": "92bc7b51",
   "metadata": {},
   "outputs": [
    {
     "name": "stdout",
     "output_type": "stream",
     "text": [
      "min dist: 108.1894\n",
      "min dist: 108.329\n"
     ]
    },
    {
     "data": {
      "image/png": "[encoded data removed]",
      "text/plain": [
       "<Figure size 432x360 with 1 Axes>"
      ]
     },
     "metadata": {
      "needs_background": "light"
     },
     "output_type": "display_data"
    }
   ],
   "source": [
    "plot_many_distances(data = test_data, \n",
    "                    x_values = params[val2_name].unique(), \n",
    "                    legend_labels = params[val1_name].unique(),\n",
    "                    legend_title = '')"
   ]
  },
  {
   "cell_type": "code",
   "execution_count": 18,
   "id": "7e7423d9",
   "metadata": {},
   "outputs": [],
   "source": [
    "val1_name = 'q_0'\n",
    "val2_name = 'proximity'\n",
    "temp1 = []\n",
    "for i in params[val1_name].unique():\n",
    "    temp2 = []\n",
    "    for j in params[val2_name].unique():\n",
    "        temp_df = params[(params[val2_name] == j) & (params[val1_name] == i)]\n",
    "        row_id = temp_df.index[0]\n",
    "        temp2.append(data[row_id,0])\n",
    "    temp1.append(temp2)\n",
    "    \n",
    "test_data = np.array(temp1)"
   ]
  },
  {
   "cell_type": "code",
   "execution_count": 19,
   "id": "b9ae3c1b",
   "metadata": {
    "scrolled": true
   },
   "outputs": [
    {
     "data": {
      "text/plain": [
       "(12, 10000)"
      ]
     },
     "execution_count": 19,
     "metadata": {},
     "output_type": "execute_result"
    }
   ],
   "source": [
    "# plot histories_params_p\n",
    "EXECUTIONS = 10000\n",
    "\n",
    "\n",
    "res_dir = os.path.join(RESULTS_DIR, f\"histories_{sheet_name}\")\n",
    "\n",
    "temp_list = []\n",
    "for exp_idx, row in params.iterrows():\n",
    "    file_name = \"history_exp_{}.npy\".format(str(exp_idx).zfill(2))\n",
    "    file_name = os.path.join(res_dir, file_name)\n",
    "    arr = np.load(file_name, allow_pickle='TRUE').item()\n",
    "    temp_list.append(arr['distances'])\n",
    "\n",
    "#temp_list\n",
    "data = np.array(temp_list)\n",
    "data.shape\n",
    "\n",
    "#mean, std, sem"
   ]
  },
  {
   "cell_type": "code",
   "execution_count": 20,
   "id": "cbbbadc4",
   "metadata": {},
   "outputs": [
    {
     "data": {
      "text/html": [
       "<div>\n",
       "<style scoped>\n",
       "    .dataframe tbody tr th:only-of-type {\n",
       "        vertical-align: middle;\n",
       "    }\n",
       "\n",
       "    .dataframe tbody tr th {\n",
       "        vertical-align: top;\n",
       "    }\n",
       "\n",
       "    .dataframe thead th {\n",
       "        text-align: right;\n",
       "    }\n",
       "</style>\n",
       "<table border=\"1\" class=\"dataframe\">\n",
       "  <thead>\n",
       "    <tr style=\"text-align: right;\">\n",
       "      <th></th>\n",
       "      <th>distance</th>\n",
       "      <th>proximity</th>\n",
       "      <th>q_0</th>\n",
       "    </tr>\n",
       "  </thead>\n",
       "  <tbody>\n",
       "    <tr>\n",
       "      <th>0</th>\n",
       "      <td>1966.0</td>\n",
       "      <td>proximity_1</td>\n",
       "      <td>0.0</td>\n",
       "    </tr>\n",
       "    <tr>\n",
       "      <th>1</th>\n",
       "      <td>1822.0</td>\n",
       "      <td>proximity_1</td>\n",
       "      <td>0.0</td>\n",
       "    </tr>\n",
       "    <tr>\n",
       "      <th>2</th>\n",
       "      <td>3716.0</td>\n",
       "      <td>proximity_1</td>\n",
       "      <td>0.0</td>\n",
       "    </tr>\n",
       "    <tr>\n",
       "      <th>3</th>\n",
       "      <td>3722.0</td>\n",
       "      <td>proximity_1</td>\n",
       "      <td>0.0</td>\n",
       "    </tr>\n",
       "    <tr>\n",
       "      <th>4</th>\n",
       "      <td>3572.0</td>\n",
       "      <td>proximity_1</td>\n",
       "      <td>0.0</td>\n",
       "    </tr>\n",
       "  </tbody>\n",
       "</table>\n",
       "</div>"
      ],
      "text/plain": [
       "   distance    proximity  q_0\n",
       "0    1966.0  proximity_1  0.0\n",
       "1    1822.0  proximity_1  0.0\n",
       "2    3716.0  proximity_1  0.0\n",
       "3    3722.0  proximity_1  0.0\n",
       "4    3572.0  proximity_1  0.0"
      ]
     },
     "execution_count": 20,
     "metadata": {},
     "output_type": "execute_result"
    }
   ],
   "source": [
    "frames = []\n",
    "\n",
    "for i in range(len(data)):\n",
    "    tmp_df = pd.DataFrame(data[i], columns =['distance'])\n",
    "    tmp_df['proximity'] = params.loc[i]['proximity']\n",
    "    tmp_df['q_0'] = params.loc[i]['q_0']\n",
    "    tmp_df.head()\n",
    "    frames.append(tmp_df)\n",
    "    \n",
    "test_df = pd.concat(frames)\n",
    "test_df.head()"
   ]
  },
  {
   "cell_type": "code",
   "execution_count": 21,
   "id": "478c2280",
   "metadata": {
    "scrolled": false
   },
   "outputs": [
    {
     "data": {
      "text/plain": [
       "Text(0, 0.5, '$\\\\langle x \\\\rangle$')"
      ]
     },
     "execution_count": 21,
     "metadata": {},
     "output_type": "execute_result"
    },
    {
     "data": {
      "image/png": "[encoded data removed]",
      "text/plain": [
       "<Figure size 432x288 with 1 Axes>"
      ]
     },
     "metadata": {
      "needs_background": "light"
     },
     "output_type": "display_data"
    }
   ],
   "source": [
    "ax = sns.violinplot(x=\"q_0\", y=\"distance\", hue=\"proximity\",\n",
    "                    data=test_df, palette=\"muted\")#, split=True)\n",
    "#ax.set_ylim(90, 450)\n",
    "ax.set(xlabel=r'$q_0$')\n",
    "ax.legend(title=\"\")\n",
    "ax.set_ylabel(r\"$\\langle x \\rangle$\", rotation=0, labelpad=10)"
   ]
  },
  {
   "cell_type": "code",
   "execution_count": null,
   "id": "d0dade53",
   "metadata": {},
   "outputs": [],
   "source": [
    "# TODO: probarle con escala logaritmica \n",
    "# Check table"
   ]
  },
  {
   "cell_type": "markdown",
   "id": "b571f819",
   "metadata": {},
   "source": [
    "## Combination"
   ]
  },
  {
   "cell_type": "code",
   "execution_count": 8,
   "id": "bd903dbd",
   "metadata": {},
   "outputs": [
    {
     "data": {
      "text/plain": [
       "(18, 3)"
      ]
     },
     "execution_count": 8,
     "metadata": {},
     "output_type": "execute_result"
    }
   ],
   "source": [
    "# plot histories_params_p\n",
    "sheet_name = \"rw_greedy_params_q_0\"\n",
    "params = pd.read_excel(EXPERIMENT_FILE, sheet_name=sheet_name)\n",
    "params.head()\n",
    "\n",
    "res_dir = os.path.join(RESULTS_DIR, f\"histories_{sheet_name}\")\n",
    "\n",
    "temp_list = []\n",
    "for exp_idx, row in params.iterrows():\n",
    "    file_name = \"history_exp_{}.npy\".format(str(exp_idx).zfill(2))\n",
    "    file_name = os.path.join(res_dir, file_name)\n",
    "    arr = np.load(file_name, allow_pickle='TRUE').item()\n",
    "    temp_list.append([arr['mean'], arr['std'], arr['sem']])\n",
    "\n",
    "#temp_list\n",
    "data = np.array(temp_list)\n",
    "data.shape\n",
    "\n",
    "#mean, std, sem"
   ]
  },
  {
   "cell_type": "code",
   "execution_count": 9,
   "id": "767b7803",
   "metadata": {},
   "outputs": [
    {
     "data": {
      "text/plain": [
       "array([[316.806 , 272.5928, 209.4202, 160.9008, 127.9744, 106.0662],\n",
       "       [242.2852, 218.238 , 181.2306, 148.465 , 123.361 , 104.9948],\n",
       "       [205.2216, 189.6516, 164.8052, 140.1148, 119.8692, 104.1688]])"
      ]
     },
     "execution_count": 9,
     "metadata": {},
     "output_type": "execute_result"
    }
   ],
   "source": [
    "val1_name = 'advantage'\n",
    "val2_name = 'q_0'\n",
    "temp1 = []\n",
    "for i in params[val1_name].unique():\n",
    "    temp2 = []\n",
    "    for j in params[val2_name].unique():\n",
    "        temp_df = params[(params[val2_name] == j) & (params[val1_name] == i)]\n",
    "        row_id = temp_df.index[0]\n",
    "        temp2.append(data[row_id,0])\n",
    "    temp1.append(temp2)\n",
    "    \n",
    "test_data = np.array(temp1)\n",
    "test_data"
   ]
  },
  {
   "cell_type": "code",
   "execution_count": 10,
   "id": "8550747e",
   "metadata": {},
   "outputs": [
    {
     "data": {
      "text/plain": [
       "['greedy $\\\\omega = $ 2.0',\n",
       " 'greedy $\\\\omega = $ 2.5',\n",
       " 'greedy $\\\\omega = $ 3.0']"
      ]
     },
     "execution_count": 10,
     "metadata": {},
     "output_type": "execute_result"
    }
   ],
   "source": [
    "legend_labels = [ f\"greedy $\\omega = $ {i}\" for i in params[val1_name].unique()]\n",
    "legend_labels"
   ]
  },
  {
   "cell_type": "code",
   "execution_count": 11,
   "id": "5992d352",
   "metadata": {},
   "outputs": [
    {
     "data": {
      "text/plain": [
       "(12, 3)"
      ]
     },
     "execution_count": 11,
     "metadata": {},
     "output_type": "execute_result"
    }
   ],
   "source": [
    "# plot histories_params_p\n",
    "sheet_name = \"rw_proximity_params_q_0\"\n",
    "params = pd.read_excel(EXPERIMENT_FILE, sheet_name=sheet_name)\n",
    "params.head()\n",
    "\n",
    "res_dir = os.path.join(RESULTS_DIR, f\"histories_{sheet_name}\")\n",
    "\n",
    "temp_list = []\n",
    "for exp_idx, row in params.iterrows():\n",
    "    file_name = \"history_exp_{}.npy\".format(str(exp_idx).zfill(2))\n",
    "    file_name = os.path.join(res_dir, file_name)\n",
    "    arr = np.load(file_name, allow_pickle='TRUE').item()\n",
    "    temp_list.append([arr['mean'], arr['std'], arr['sem']])\n",
    "\n",
    "#temp_list\n",
    "data = np.array(temp_list)\n",
    "data.shape\n"
   ]
  },
  {
   "cell_type": "code",
   "execution_count": 12,
   "id": "3fac1143",
   "metadata": {
    "scrolled": true
   },
   "outputs": [
    {
     "data": {
      "text/plain": [
       "array([[3468.218 ,  739.3348,  295.666 ,  187.3082,  137.0352,  108.1894],\n",
       "       [3510.6074,  733.2034,  296.6062,  187.008 ,  136.935 ,  108.329 ]])"
      ]
     },
     "execution_count": 12,
     "metadata": {},
     "output_type": "execute_result"
    }
   ],
   "source": [
    "val1_name = 'proximity'\n",
    "val2_name = 'q_0'\n",
    "temp1 = []\n",
    "for i in params[val1_name].unique():\n",
    "    temp2 = []\n",
    "    for j in params[val2_name].unique():\n",
    "        temp_df = params[(params[val2_name] == j) & (params[val1_name] == i)]\n",
    "        row_id = temp_df.index[0]\n",
    "        temp2.append(data[row_id,0])\n",
    "    temp1.append(temp2)\n",
    "    \n",
    "test_data2 = np.array(temp1)\n",
    "test_data2"
   ]
  },
  {
   "cell_type": "code",
   "execution_count": 13,
   "id": "c414d710",
   "metadata": {},
   "outputs": [
    {
     "data": {
      "text/plain": [
       "array([[ 316.806 ,  272.5928,  209.4202,  160.9008,  127.9744,  106.0662],\n",
       "       [ 242.2852,  218.238 ,  181.2306,  148.465 ,  123.361 ,  104.9948],\n",
       "       [ 205.2216,  189.6516,  164.8052,  140.1148,  119.8692,  104.1688],\n",
       "       [3468.218 ,  739.3348,  295.666 ,  187.3082,  137.0352,  108.1894],\n",
       "       [3510.6074,  733.2034,  296.6062,  187.008 ,  136.935 ,  108.329 ]])"
      ]
     },
     "execution_count": 13,
     "metadata": {},
     "output_type": "execute_result"
    }
   ],
   "source": [
    "plot_data = np.concatenate([test_data,test_data2])\n",
    "plot_data"
   ]
  },
  {
   "cell_type": "code",
   "execution_count": 14,
   "id": "2be154be",
   "metadata": {
    "scrolled": false
   },
   "outputs": [
    {
     "data": {
      "text/plain": [
       "array(['greedy $\\\\omega = $ 2.0', 'greedy $\\\\omega = $ 2.5',\n",
       "       'greedy $\\\\omega = $ 3.0', 'proximity_1', 'proximity_2'],\n",
       "      dtype=object)"
      ]
     },
     "execution_count": 14,
     "metadata": {},
     "output_type": "execute_result"
    }
   ],
   "source": [
    "legend_labels = np.concatenate([legend_labels, params[val1_name].unique()])\n",
    "legend_labels"
   ]
  },
  {
   "cell_type": "code",
   "execution_count": 15,
   "id": "e8ba777e",
   "metadata": {},
   "outputs": [
    {
     "name": "stdout",
     "output_type": "stream",
     "text": [
      "min dist: 106.0662\n",
      "min dist: 104.9948\n",
      "min dist: 104.1688\n",
      "min dist: 108.1894\n",
      "min dist: 108.329\n"
     ]
    },
    {
     "data": {
      "image/png": "[encoded data removed]",
      "text/plain": [
       "<Figure size 432x360 with 1 Axes>"
      ]
     },
     "metadata": {
      "needs_background": "light"
     },
     "output_type": "display_data"
    }
   ],
   "source": [
    "plot_many_distances(data = plot_data, \n",
    "                    x_values = params[val2_name].unique(), \n",
    "                    legend_labels = legend_labels,\n",
    "                    legend_title = '',\n",
    "                    ylim = (90,800))"
   ]
  },
  {
   "cell_type": "markdown",
   "id": "97c68f7c",
   "metadata": {},
   "source": [
    "## Plot Levy Greedy Random Walk -> Vary $q_0$ and advantage"
   ]
  },
  {
   "cell_type": "code",
   "execution_count": 14,
   "id": "141c8b97",
   "metadata": {},
   "outputs": [
    {
     "data": {
      "text/html": [
       "<div>\n",
       "<style scoped>\n",
       "    .dataframe tbody tr th:only-of-type {\n",
       "        vertical-align: middle;\n",
       "    }\n",
       "\n",
       "    .dataframe tbody tr th {\n",
       "        vertical-align: top;\n",
       "    }\n",
       "\n",
       "    .dataframe thead th {\n",
       "        text-align: right;\n",
       "    }\n",
       "</style>\n",
       "<table border=\"1\" class=\"dataframe\">\n",
       "  <thead>\n",
       "    <tr style=\"text-align: right;\">\n",
       "      <th></th>\n",
       "      <th>type</th>\n",
       "      <th>size</th>\n",
       "      <th>n_rw</th>\n",
       "      <th>advantage</th>\n",
       "      <th>q_0</th>\n",
       "      <th>omega</th>\n",
       "    </tr>\n",
       "  </thead>\n",
       "  <tbody>\n",
       "    <tr>\n",
       "      <th>28</th>\n",
       "      <td>levy_greedy</td>\n",
       "      <td>50</td>\n",
       "      <td>10000</td>\n",
       "      <td>3</td>\n",
       "      <td>0.0</td>\n",
       "      <td>1</td>\n",
       "    </tr>\n",
       "    <tr>\n",
       "      <th>0</th>\n",
       "      <td>levy_greedy</td>\n",
       "      <td>50</td>\n",
       "      <td>10000</td>\n",
       "      <td>3</td>\n",
       "      <td>0.0</td>\n",
       "      <td>2</td>\n",
       "    </tr>\n",
       "    <tr>\n",
       "      <th>1</th>\n",
       "      <td>levy_greedy</td>\n",
       "      <td>50</td>\n",
       "      <td>10000</td>\n",
       "      <td>3</td>\n",
       "      <td>0.0</td>\n",
       "      <td>3</td>\n",
       "    </tr>\n",
       "    <tr>\n",
       "      <th>2</th>\n",
       "      <td>levy_greedy</td>\n",
       "      <td>50</td>\n",
       "      <td>10000</td>\n",
       "      <td>3</td>\n",
       "      <td>0.0</td>\n",
       "      <td>4</td>\n",
       "    </tr>\n",
       "    <tr>\n",
       "      <th>29</th>\n",
       "      <td>levy_greedy</td>\n",
       "      <td>50</td>\n",
       "      <td>10000</td>\n",
       "      <td>3</td>\n",
       "      <td>0.0</td>\n",
       "      <td>5</td>\n",
       "    </tr>\n",
       "  </tbody>\n",
       "</table>\n",
       "</div>"
      ],
      "text/plain": [
       "           type  size   n_rw  advantage  q_0  omega\n",
       "28  levy_greedy    50  10000          3  0.0      1\n",
       "0   levy_greedy    50  10000          3  0.0      2\n",
       "1   levy_greedy    50  10000          3  0.0      3\n",
       "2   levy_greedy    50  10000          3  0.0      4\n",
       "29  levy_greedy    50  10000          3  0.0      5"
      ]
     },
     "execution_count": 14,
     "metadata": {},
     "output_type": "execute_result"
    }
   ],
   "source": [
    "sheet_name = \"rw_levy_greedy_params_omega\"\n",
    "params = pd.read_excel(EXPERIMENT_FILE, sheet_name=sheet_name).sort_values(['q_0','omega'])\n",
    "params"
   ]
  },
  {
   "cell_type": "code",
   "execution_count": 13,
   "id": "b03b394b",
   "metadata": {},
   "outputs": [
    {
     "name": "stdout",
     "output_type": "stream",
     "text": [
      "28\n"
     ]
    },
    {
     "ename": "FileNotFoundError",
     "evalue": "[Errno 2] No such file or directory: 'stuff/results/aco_pp/histories_rw_levy_greedy_params_omega/history_exp_28.npy'",
     "output_type": "error",
     "traceback": [
      "\u001b[0;31m---------------------------------------------------------------------------\u001b[0m",
      "\u001b[0;31mFileNotFoundError\u001b[0m                         Traceback (most recent call last)",
      "\u001b[0;32m<ipython-input-13-b1ecc50cbf0d>\u001b[0m in \u001b[0;36m<module>\u001b[0;34m\u001b[0m\n\u001b[1;32m      8\u001b[0m     \u001b[0mfile_name\u001b[0m \u001b[0;34m=\u001b[0m \u001b[0;34m\"history_exp_{}.npy\"\u001b[0m\u001b[0;34m.\u001b[0m\u001b[0mformat\u001b[0m\u001b[0;34m(\u001b[0m\u001b[0mstr\u001b[0m\u001b[0;34m(\u001b[0m\u001b[0mexp_idx\u001b[0m\u001b[0;34m)\u001b[0m\u001b[0;34m.\u001b[0m\u001b[0mzfill\u001b[0m\u001b[0;34m(\u001b[0m\u001b[0;36m2\u001b[0m\u001b[0;34m)\u001b[0m\u001b[0;34m)\u001b[0m\u001b[0;34m\u001b[0m\u001b[0;34m\u001b[0m\u001b[0m\n\u001b[1;32m      9\u001b[0m     \u001b[0mfile_name\u001b[0m \u001b[0;34m=\u001b[0m \u001b[0mos\u001b[0m\u001b[0;34m.\u001b[0m\u001b[0mpath\u001b[0m\u001b[0;34m.\u001b[0m\u001b[0mjoin\u001b[0m\u001b[0;34m(\u001b[0m\u001b[0mres_dir\u001b[0m\u001b[0;34m,\u001b[0m \u001b[0mfile_name\u001b[0m\u001b[0;34m)\u001b[0m\u001b[0;34m\u001b[0m\u001b[0;34m\u001b[0m\u001b[0m\n\u001b[0;32m---> 10\u001b[0;31m     \u001b[0marr\u001b[0m \u001b[0;34m=\u001b[0m \u001b[0mnp\u001b[0m\u001b[0;34m.\u001b[0m\u001b[0mload\u001b[0m\u001b[0;34m(\u001b[0m\u001b[0mfile_name\u001b[0m\u001b[0;34m,\u001b[0m \u001b[0mallow_pickle\u001b[0m\u001b[0;34m=\u001b[0m\u001b[0;34m'TRUE'\u001b[0m\u001b[0;34m)\u001b[0m\u001b[0;34m.\u001b[0m\u001b[0mitem\u001b[0m\u001b[0;34m(\u001b[0m\u001b[0;34m)\u001b[0m\u001b[0;34m\u001b[0m\u001b[0;34m\u001b[0m\u001b[0m\n\u001b[0m\u001b[1;32m     11\u001b[0m     \u001b[0mtemp_list\u001b[0m\u001b[0;34m.\u001b[0m\u001b[0mappend\u001b[0m\u001b[0;34m(\u001b[0m\u001b[0;34m[\u001b[0m\u001b[0marr\u001b[0m\u001b[0;34m[\u001b[0m\u001b[0;34m'mean'\u001b[0m\u001b[0;34m]\u001b[0m\u001b[0;34m,\u001b[0m \u001b[0marr\u001b[0m\u001b[0;34m[\u001b[0m\u001b[0;34m'std'\u001b[0m\u001b[0;34m]\u001b[0m\u001b[0;34m,\u001b[0m \u001b[0marr\u001b[0m\u001b[0;34m[\u001b[0m\u001b[0;34m'sem'\u001b[0m\u001b[0;34m]\u001b[0m\u001b[0;34m]\u001b[0m\u001b[0;34m)\u001b[0m\u001b[0;34m\u001b[0m\u001b[0;34m\u001b[0m\u001b[0m\n\u001b[1;32m     12\u001b[0m \u001b[0;34m\u001b[0m\u001b[0m\n",
      "\u001b[0;32m~/miniconda3/envs/aco_rw/lib/python3.6/site-packages/numpy/lib/npyio.py\u001b[0m in \u001b[0;36mload\u001b[0;34m(file, mmap_mode, allow_pickle, fix_imports, encoding)\u001b[0m\n\u001b[1;32m    414\u001b[0m             \u001b[0mown_fid\u001b[0m \u001b[0;34m=\u001b[0m \u001b[0;32mFalse\u001b[0m\u001b[0;34m\u001b[0m\u001b[0;34m\u001b[0m\u001b[0m\n\u001b[1;32m    415\u001b[0m         \u001b[0;32melse\u001b[0m\u001b[0;34m:\u001b[0m\u001b[0;34m\u001b[0m\u001b[0;34m\u001b[0m\u001b[0m\n\u001b[0;32m--> 416\u001b[0;31m             \u001b[0mfid\u001b[0m \u001b[0;34m=\u001b[0m \u001b[0mstack\u001b[0m\u001b[0;34m.\u001b[0m\u001b[0menter_context\u001b[0m\u001b[0;34m(\u001b[0m\u001b[0mopen\u001b[0m\u001b[0;34m(\u001b[0m\u001b[0mos_fspath\u001b[0m\u001b[0;34m(\u001b[0m\u001b[0mfile\u001b[0m\u001b[0;34m)\u001b[0m\u001b[0;34m,\u001b[0m \u001b[0;34m\"rb\"\u001b[0m\u001b[0;34m)\u001b[0m\u001b[0;34m)\u001b[0m\u001b[0;34m\u001b[0m\u001b[0;34m\u001b[0m\u001b[0m\n\u001b[0m\u001b[1;32m    417\u001b[0m             \u001b[0mown_fid\u001b[0m \u001b[0;34m=\u001b[0m \u001b[0;32mTrue\u001b[0m\u001b[0;34m\u001b[0m\u001b[0;34m\u001b[0m\u001b[0m\n\u001b[1;32m    418\u001b[0m \u001b[0;34m\u001b[0m\u001b[0m\n",
      "\u001b[0;31mFileNotFoundError\u001b[0m: [Errno 2] No such file or directory: 'stuff/results/aco_pp/histories_rw_levy_greedy_params_omega/history_exp_28.npy'"
     ]
    }
   ],
   "source": [
    "# plot histories_params_p\n",
    "\n",
    "res_dir = os.path.join(RESULTS_DIR, f\"histories_{sheet_name}\")\n",
    "\n",
    "temp_list = []\n",
    "for exp_idx, row in params.iterrows():\n",
    "    file_name = \"history_exp_{}.npy\".format(str(exp_idx).zfill(2))\n",
    "    file_name = os.path.join(res_dir, file_name)\n",
    "    arr = np.load(file_name, allow_pickle='TRUE').item()\n",
    "    temp_list.append([arr['mean'], arr['std'], arr['sem']])\n",
    "\n",
    "#temp_list\n",
    "data = np.array(temp_list)\n",
    "data.shape"
   ]
  },
  {
   "cell_type": "code",
   "execution_count": 61,
   "id": "bbf3f60b",
   "metadata": {},
   "outputs": [],
   "source": [
    "val1_name = 'omega'\n",
    "val2_name = 'q_0'\n",
    "temp1 = []\n",
    "for i in params[val1_name].unique():\n",
    "    temp2 = []\n",
    "    for j in params[val2_name].unique():\n",
    "        temp_df = params[(params[val2_name] == j) & (params[val1_name] == i)]\n",
    "        row_id = temp_df.index[0]\n",
    "        temp2.append(data[row_id,0])\n",
    "    temp1.append(temp2)\n",
    "    \n",
    "test_data = np.array(temp1)"
   ]
  },
  {
   "cell_type": "code",
   "execution_count": 62,
   "id": "acd58859",
   "metadata": {
    "scrolled": true
   },
   "outputs": [
    {
     "name": "stdout",
     "output_type": "stream",
     "text": [
      "min dist: 108.99009644367275\n",
      "min dist: 104.61721061147175\n",
      "min dist: 104.27673103504289\n"
     ]
    },
    {
     "data": {
      "image/png": "[encoded data removed]",
      "text/plain": [
       "<Figure size 432x360 with 1 Axes>"
      ]
     },
     "metadata": {
      "needs_background": "light"
     },
     "output_type": "display_data"
    }
   ],
   "source": [
    "plot_many_distances(data = test_data, \n",
    "                    x_values = params[val2_name].unique(), \n",
    "                    legend_labels = params[val1_name].unique(),\n",
    "                    legend_title = r'$\\phi$')"
   ]
  },
  {
   "cell_type": "code",
   "execution_count": 63,
   "id": "acc42cb6",
   "metadata": {},
   "outputs": [
    {
     "data": {
      "text/plain": [
       "(18, 10000)"
      ]
     },
     "execution_count": 63,
     "metadata": {},
     "output_type": "execute_result"
    }
   ],
   "source": [
    "# plot histories_params_p\n",
    "\n",
    "res_dir = os.path.join(RESULTS_DIR, f\"histories_{sheet_name}\")\n",
    "\n",
    "temp_list = []\n",
    "for exp_idx, row in params.iterrows():\n",
    "    file_name = \"history_exp_{}.npy\".format(str(exp_idx).zfill(2))\n",
    "    file_name = os.path.join(res_dir, file_name)\n",
    "    arr = np.load(file_name, allow_pickle='TRUE').item()\n",
    "    temp_list.append(arr['distances'])\n",
    "\n",
    "#temp_list\n",
    "data = np.array(temp_list)\n",
    "data.shape\n",
    "\n",
    "#mean, std, sem"
   ]
  },
  {
   "cell_type": "code",
   "execution_count": 64,
   "id": "b09f722f",
   "metadata": {},
   "outputs": [
    {
     "data": {
      "text/html": [
       "<div>\n",
       "<style scoped>\n",
       "    .dataframe tbody tr th:only-of-type {\n",
       "        vertical-align: middle;\n",
       "    }\n",
       "\n",
       "    .dataframe tbody tr th {\n",
       "        vertical-align: top;\n",
       "    }\n",
       "\n",
       "    .dataframe thead th {\n",
       "        text-align: right;\n",
       "    }\n",
       "</style>\n",
       "<table border=\"1\" class=\"dataframe\">\n",
       "  <thead>\n",
       "    <tr style=\"text-align: right;\">\n",
       "      <th></th>\n",
       "      <th>distance</th>\n",
       "      <th>omega</th>\n",
       "      <th>q_0</th>\n",
       "    </tr>\n",
       "  </thead>\n",
       "  <tbody>\n",
       "    <tr>\n",
       "      <th>0</th>\n",
       "      <td>337.193754</td>\n",
       "      <td>2</td>\n",
       "      <td>0.0</td>\n",
       "    </tr>\n",
       "    <tr>\n",
       "      <th>1</th>\n",
       "      <td>194.000000</td>\n",
       "      <td>2</td>\n",
       "      <td>0.0</td>\n",
       "    </tr>\n",
       "    <tr>\n",
       "      <th>2</th>\n",
       "      <td>205.062258</td>\n",
       "      <td>2</td>\n",
       "      <td>0.0</td>\n",
       "    </tr>\n",
       "    <tr>\n",
       "      <th>3</th>\n",
       "      <td>193.071068</td>\n",
       "      <td>2</td>\n",
       "      <td>0.0</td>\n",
       "    </tr>\n",
       "    <tr>\n",
       "      <th>4</th>\n",
       "      <td>209.482279</td>\n",
       "      <td>2</td>\n",
       "      <td>0.0</td>\n",
       "    </tr>\n",
       "  </tbody>\n",
       "</table>\n",
       "</div>"
      ],
      "text/plain": [
       "     distance  omega  q_0\n",
       "0  337.193754      2  0.0\n",
       "1  194.000000      2  0.0\n",
       "2  205.062258      2  0.0\n",
       "3  193.071068      2  0.0\n",
       "4  209.482279      2  0.0"
      ]
     },
     "execution_count": 64,
     "metadata": {},
     "output_type": "execute_result"
    }
   ],
   "source": [
    "frames = []\n",
    "\n",
    "for i in range(len(data)):\n",
    "    tmp_df = pd.DataFrame(data[i], columns =['distance'])\n",
    "    tmp_df[val1_name] = params.loc[i][val1_name]\n",
    "    tmp_df[val2_name] = params.loc[i][val2_name]\n",
    "    tmp_df.head()\n",
    "    frames.append(tmp_df)\n",
    "    \n",
    "test_df = pd.concat(frames)\n",
    "test_df.head()"
   ]
  },
  {
   "cell_type": "code",
   "execution_count": 65,
   "id": "dc1741bc",
   "metadata": {
    "scrolled": true
   },
   "outputs": [
    {
     "data": {
      "text/plain": [
       "Text(0, 0.5, '$\\\\langle x \\\\rangle$')"
      ]
     },
     "execution_count": 65,
     "metadata": {},
     "output_type": "execute_result"
    },
    {
     "data": {
      "image/png": "[encoded data removed]",
      "text/plain": [
       "<Figure size 432x288 with 1 Axes>"
      ]
     },
     "metadata": {
      "needs_background": "light"
     },
     "output_type": "display_data"
    }
   ],
   "source": [
    "ax = sns.violinplot(x=val2_name, y=\"distance\", hue=val1_name,\n",
    "                    data=test_df, palette=\"muted\")#, split=True)\n",
    "ax.set_ylim(85, 300)\n",
    "ax.set(xlabel=r'$q_0$')\n",
    "ax.legend(title=r\"$\\phi$\")\n",
    "ax.set_ylabel(r\"$\\langle x \\rangle$\", rotation=0, labelpad=10)"
   ]
  },
  {
   "cell_type": "markdown",
   "id": "75fde1ce",
   "metadata": {},
   "source": [
    "## Plot Levy Proximity Random Walk -> Vary $q_0$ and proximity"
   ]
  },
  {
   "cell_type": "code",
   "execution_count": 15,
   "id": "87323054",
   "metadata": {},
   "outputs": [
    {
     "data": {
      "text/html": [
       "<div>\n",
       "<style scoped>\n",
       "    .dataframe tbody tr th:only-of-type {\n",
       "        vertical-align: middle;\n",
       "    }\n",
       "\n",
       "    .dataframe tbody tr th {\n",
       "        vertical-align: top;\n",
       "    }\n",
       "\n",
       "    .dataframe thead th {\n",
       "        text-align: right;\n",
       "    }\n",
       "</style>\n",
       "<table border=\"1\" class=\"dataframe\">\n",
       "  <thead>\n",
       "    <tr style=\"text-align: right;\">\n",
       "      <th></th>\n",
       "      <th>type</th>\n",
       "      <th>size</th>\n",
       "      <th>n_rw</th>\n",
       "      <th>proximity</th>\n",
       "      <th>q_0</th>\n",
       "      <th>omega</th>\n",
       "    </tr>\n",
       "  </thead>\n",
       "  <tbody>\n",
       "    <tr>\n",
       "      <th>28</th>\n",
       "      <td>levy_proximity</td>\n",
       "      <td>50</td>\n",
       "      <td>10000</td>\n",
       "      <td>proximity_2</td>\n",
       "      <td>0.0</td>\n",
       "      <td>1</td>\n",
       "    </tr>\n",
       "    <tr>\n",
       "      <th>0</th>\n",
       "      <td>levy_proximity</td>\n",
       "      <td>50</td>\n",
       "      <td>10000</td>\n",
       "      <td>proximity_2</td>\n",
       "      <td>0.0</td>\n",
       "      <td>2</td>\n",
       "    </tr>\n",
       "    <tr>\n",
       "      <th>1</th>\n",
       "      <td>levy_proximity</td>\n",
       "      <td>50</td>\n",
       "      <td>10000</td>\n",
       "      <td>proximity_2</td>\n",
       "      <td>0.0</td>\n",
       "      <td>3</td>\n",
       "    </tr>\n",
       "    <tr>\n",
       "      <th>2</th>\n",
       "      <td>levy_proximity</td>\n",
       "      <td>50</td>\n",
       "      <td>10000</td>\n",
       "      <td>proximity_2</td>\n",
       "      <td>0.0</td>\n",
       "      <td>4</td>\n",
       "    </tr>\n",
       "    <tr>\n",
       "      <th>29</th>\n",
       "      <td>levy_proximity</td>\n",
       "      <td>50</td>\n",
       "      <td>10000</td>\n",
       "      <td>proximity_2</td>\n",
       "      <td>0.0</td>\n",
       "      <td>5</td>\n",
       "    </tr>\n",
       "    <tr>\n",
       "      <th>18</th>\n",
       "      <td>levy_proximity</td>\n",
       "      <td>50</td>\n",
       "      <td>10000</td>\n",
       "      <td>proximity_2</td>\n",
       "      <td>0.1</td>\n",
       "      <td>1</td>\n",
       "    </tr>\n",
       "    <tr>\n",
       "      <th>3</th>\n",
       "      <td>levy_proximity</td>\n",
       "      <td>50</td>\n",
       "      <td>10000</td>\n",
       "      <td>proximity_2</td>\n",
       "      <td>0.1</td>\n",
       "      <td>2</td>\n",
       "    </tr>\n",
       "    <tr>\n",
       "      <th>4</th>\n",
       "      <td>levy_proximity</td>\n",
       "      <td>50</td>\n",
       "      <td>10000</td>\n",
       "      <td>proximity_2</td>\n",
       "      <td>0.1</td>\n",
       "      <td>3</td>\n",
       "    </tr>\n",
       "    <tr>\n",
       "      <th>5</th>\n",
       "      <td>levy_proximity</td>\n",
       "      <td>50</td>\n",
       "      <td>10000</td>\n",
       "      <td>proximity_2</td>\n",
       "      <td>0.1</td>\n",
       "      <td>4</td>\n",
       "    </tr>\n",
       "    <tr>\n",
       "      <th>23</th>\n",
       "      <td>levy_proximity</td>\n",
       "      <td>50</td>\n",
       "      <td>10000</td>\n",
       "      <td>proximity_2</td>\n",
       "      <td>0.1</td>\n",
       "      <td>5</td>\n",
       "    </tr>\n",
       "    <tr>\n",
       "      <th>19</th>\n",
       "      <td>levy_proximity</td>\n",
       "      <td>50</td>\n",
       "      <td>10000</td>\n",
       "      <td>proximity_2</td>\n",
       "      <td>0.3</td>\n",
       "      <td>1</td>\n",
       "    </tr>\n",
       "    <tr>\n",
       "      <th>6</th>\n",
       "      <td>levy_proximity</td>\n",
       "      <td>50</td>\n",
       "      <td>10000</td>\n",
       "      <td>proximity_2</td>\n",
       "      <td>0.3</td>\n",
       "      <td>2</td>\n",
       "    </tr>\n",
       "    <tr>\n",
       "      <th>7</th>\n",
       "      <td>levy_proximity</td>\n",
       "      <td>50</td>\n",
       "      <td>10000</td>\n",
       "      <td>proximity_2</td>\n",
       "      <td>0.3</td>\n",
       "      <td>3</td>\n",
       "    </tr>\n",
       "    <tr>\n",
       "      <th>8</th>\n",
       "      <td>levy_proximity</td>\n",
       "      <td>50</td>\n",
       "      <td>10000</td>\n",
       "      <td>proximity_2</td>\n",
       "      <td>0.3</td>\n",
       "      <td>4</td>\n",
       "    </tr>\n",
       "    <tr>\n",
       "      <th>24</th>\n",
       "      <td>levy_proximity</td>\n",
       "      <td>50</td>\n",
       "      <td>10000</td>\n",
       "      <td>proximity_2</td>\n",
       "      <td>0.3</td>\n",
       "      <td>5</td>\n",
       "    </tr>\n",
       "    <tr>\n",
       "      <th>20</th>\n",
       "      <td>levy_proximity</td>\n",
       "      <td>50</td>\n",
       "      <td>10000</td>\n",
       "      <td>proximity_2</td>\n",
       "      <td>0.5</td>\n",
       "      <td>1</td>\n",
       "    </tr>\n",
       "    <tr>\n",
       "      <th>9</th>\n",
       "      <td>levy_proximity</td>\n",
       "      <td>50</td>\n",
       "      <td>10000</td>\n",
       "      <td>proximity_2</td>\n",
       "      <td>0.5</td>\n",
       "      <td>2</td>\n",
       "    </tr>\n",
       "    <tr>\n",
       "      <th>10</th>\n",
       "      <td>levy_proximity</td>\n",
       "      <td>50</td>\n",
       "      <td>10000</td>\n",
       "      <td>proximity_2</td>\n",
       "      <td>0.5</td>\n",
       "      <td>3</td>\n",
       "    </tr>\n",
       "    <tr>\n",
       "      <th>11</th>\n",
       "      <td>levy_proximity</td>\n",
       "      <td>50</td>\n",
       "      <td>10000</td>\n",
       "      <td>proximity_2</td>\n",
       "      <td>0.5</td>\n",
       "      <td>4</td>\n",
       "    </tr>\n",
       "    <tr>\n",
       "      <th>25</th>\n",
       "      <td>levy_proximity</td>\n",
       "      <td>50</td>\n",
       "      <td>10000</td>\n",
       "      <td>proximity_2</td>\n",
       "      <td>0.5</td>\n",
       "      <td>5</td>\n",
       "    </tr>\n",
       "    <tr>\n",
       "      <th>21</th>\n",
       "      <td>levy_proximity</td>\n",
       "      <td>50</td>\n",
       "      <td>10000</td>\n",
       "      <td>proximity_2</td>\n",
       "      <td>0.7</td>\n",
       "      <td>1</td>\n",
       "    </tr>\n",
       "    <tr>\n",
       "      <th>12</th>\n",
       "      <td>levy_proximity</td>\n",
       "      <td>50</td>\n",
       "      <td>10000</td>\n",
       "      <td>proximity_2</td>\n",
       "      <td>0.7</td>\n",
       "      <td>2</td>\n",
       "    </tr>\n",
       "    <tr>\n",
       "      <th>13</th>\n",
       "      <td>levy_proximity</td>\n",
       "      <td>50</td>\n",
       "      <td>10000</td>\n",
       "      <td>proximity_2</td>\n",
       "      <td>0.7</td>\n",
       "      <td>3</td>\n",
       "    </tr>\n",
       "    <tr>\n",
       "      <th>14</th>\n",
       "      <td>levy_proximity</td>\n",
       "      <td>50</td>\n",
       "      <td>10000</td>\n",
       "      <td>proximity_2</td>\n",
       "      <td>0.7</td>\n",
       "      <td>4</td>\n",
       "    </tr>\n",
       "    <tr>\n",
       "      <th>26</th>\n",
       "      <td>levy_proximity</td>\n",
       "      <td>50</td>\n",
       "      <td>10000</td>\n",
       "      <td>proximity_2</td>\n",
       "      <td>0.7</td>\n",
       "      <td>5</td>\n",
       "    </tr>\n",
       "    <tr>\n",
       "      <th>22</th>\n",
       "      <td>levy_proximity</td>\n",
       "      <td>50</td>\n",
       "      <td>10000</td>\n",
       "      <td>proximity_2</td>\n",
       "      <td>0.9</td>\n",
       "      <td>1</td>\n",
       "    </tr>\n",
       "    <tr>\n",
       "      <th>15</th>\n",
       "      <td>levy_proximity</td>\n",
       "      <td>50</td>\n",
       "      <td>10000</td>\n",
       "      <td>proximity_2</td>\n",
       "      <td>0.9</td>\n",
       "      <td>2</td>\n",
       "    </tr>\n",
       "    <tr>\n",
       "      <th>16</th>\n",
       "      <td>levy_proximity</td>\n",
       "      <td>50</td>\n",
       "      <td>10000</td>\n",
       "      <td>proximity_2</td>\n",
       "      <td>0.9</td>\n",
       "      <td>3</td>\n",
       "    </tr>\n",
       "    <tr>\n",
       "      <th>17</th>\n",
       "      <td>levy_proximity</td>\n",
       "      <td>50</td>\n",
       "      <td>10000</td>\n",
       "      <td>proximity_2</td>\n",
       "      <td>0.9</td>\n",
       "      <td>4</td>\n",
       "    </tr>\n",
       "    <tr>\n",
       "      <th>27</th>\n",
       "      <td>levy_proximity</td>\n",
       "      <td>50</td>\n",
       "      <td>10000</td>\n",
       "      <td>proximity_2</td>\n",
       "      <td>0.9</td>\n",
       "      <td>5</td>\n",
       "    </tr>\n",
       "  </tbody>\n",
       "</table>\n",
       "</div>"
      ],
      "text/plain": [
       "              type  size   n_rw    proximity  q_0  omega\n",
       "28  levy_proximity    50  10000  proximity_2  0.0      1\n",
       "0   levy_proximity    50  10000  proximity_2  0.0      2\n",
       "1   levy_proximity    50  10000  proximity_2  0.0      3\n",
       "2   levy_proximity    50  10000  proximity_2  0.0      4\n",
       "29  levy_proximity    50  10000  proximity_2  0.0      5\n",
       "18  levy_proximity    50  10000  proximity_2  0.1      1\n",
       "3   levy_proximity    50  10000  proximity_2  0.1      2\n",
       "4   levy_proximity    50  10000  proximity_2  0.1      3\n",
       "5   levy_proximity    50  10000  proximity_2  0.1      4\n",
       "23  levy_proximity    50  10000  proximity_2  0.1      5\n",
       "19  levy_proximity    50  10000  proximity_2  0.3      1\n",
       "6   levy_proximity    50  10000  proximity_2  0.3      2\n",
       "7   levy_proximity    50  10000  proximity_2  0.3      3\n",
       "8   levy_proximity    50  10000  proximity_2  0.3      4\n",
       "24  levy_proximity    50  10000  proximity_2  0.3      5\n",
       "20  levy_proximity    50  10000  proximity_2  0.5      1\n",
       "9   levy_proximity    50  10000  proximity_2  0.5      2\n",
       "10  levy_proximity    50  10000  proximity_2  0.5      3\n",
       "11  levy_proximity    50  10000  proximity_2  0.5      4\n",
       "25  levy_proximity    50  10000  proximity_2  0.5      5\n",
       "21  levy_proximity    50  10000  proximity_2  0.7      1\n",
       "12  levy_proximity    50  10000  proximity_2  0.7      2\n",
       "13  levy_proximity    50  10000  proximity_2  0.7      3\n",
       "14  levy_proximity    50  10000  proximity_2  0.7      4\n",
       "26  levy_proximity    50  10000  proximity_2  0.7      5\n",
       "22  levy_proximity    50  10000  proximity_2  0.9      1\n",
       "15  levy_proximity    50  10000  proximity_2  0.9      2\n",
       "16  levy_proximity    50  10000  proximity_2  0.9      3\n",
       "17  levy_proximity    50  10000  proximity_2  0.9      4\n",
       "27  levy_proximity    50  10000  proximity_2  0.9      5"
      ]
     },
     "execution_count": 15,
     "metadata": {},
     "output_type": "execute_result"
    }
   ],
   "source": [
    "sheet_name = \"rw_levy_proximity_params_q_0\"\n",
    "params = pd.read_excel(EXPERIMENT_FILE, sheet_name=sheet_name).sort_values(['q_0','omega'])\n",
    "params\n",
    "#comment"
   ]
  },
  {
   "cell_type": "code",
   "execution_count": 16,
   "id": "360d3111",
   "metadata": {},
   "outputs": [
    {
     "ename": "FileNotFoundError",
     "evalue": "[Errno 2] No such file or directory: 'stuff/results/aco_pp/histories_rw_levy_proximity_params_q_0/history_exp_28.npy'",
     "output_type": "error",
     "traceback": [
      "\u001b[0;31m---------------------------------------------------------------------------\u001b[0m",
      "\u001b[0;31mFileNotFoundError\u001b[0m                         Traceback (most recent call last)",
      "\u001b[0;32m<ipython-input-16-ce009701920d>\u001b[0m in \u001b[0;36m<module>\u001b[0;34m\u001b[0m\n\u001b[1;32m      7\u001b[0m     \u001b[0mfile_name\u001b[0m \u001b[0;34m=\u001b[0m \u001b[0;34m\"history_exp_{}.npy\"\u001b[0m\u001b[0;34m.\u001b[0m\u001b[0mformat\u001b[0m\u001b[0;34m(\u001b[0m\u001b[0mstr\u001b[0m\u001b[0;34m(\u001b[0m\u001b[0mexp_idx\u001b[0m\u001b[0;34m)\u001b[0m\u001b[0;34m.\u001b[0m\u001b[0mzfill\u001b[0m\u001b[0;34m(\u001b[0m\u001b[0;36m2\u001b[0m\u001b[0;34m)\u001b[0m\u001b[0;34m)\u001b[0m\u001b[0;34m\u001b[0m\u001b[0;34m\u001b[0m\u001b[0m\n\u001b[1;32m      8\u001b[0m     \u001b[0mfile_name\u001b[0m \u001b[0;34m=\u001b[0m \u001b[0mos\u001b[0m\u001b[0;34m.\u001b[0m\u001b[0mpath\u001b[0m\u001b[0;34m.\u001b[0m\u001b[0mjoin\u001b[0m\u001b[0;34m(\u001b[0m\u001b[0mres_dir\u001b[0m\u001b[0;34m,\u001b[0m \u001b[0mfile_name\u001b[0m\u001b[0;34m)\u001b[0m\u001b[0;34m\u001b[0m\u001b[0;34m\u001b[0m\u001b[0m\n\u001b[0;32m----> 9\u001b[0;31m     \u001b[0marr\u001b[0m \u001b[0;34m=\u001b[0m \u001b[0mnp\u001b[0m\u001b[0;34m.\u001b[0m\u001b[0mload\u001b[0m\u001b[0;34m(\u001b[0m\u001b[0mfile_name\u001b[0m\u001b[0;34m,\u001b[0m \u001b[0mallow_pickle\u001b[0m\u001b[0;34m=\u001b[0m\u001b[0;34m'TRUE'\u001b[0m\u001b[0;34m)\u001b[0m\u001b[0;34m.\u001b[0m\u001b[0mitem\u001b[0m\u001b[0;34m(\u001b[0m\u001b[0;34m)\u001b[0m\u001b[0;34m\u001b[0m\u001b[0;34m\u001b[0m\u001b[0m\n\u001b[0m\u001b[1;32m     10\u001b[0m     \u001b[0mtemp_list\u001b[0m\u001b[0;34m.\u001b[0m\u001b[0mappend\u001b[0m\u001b[0;34m(\u001b[0m\u001b[0;34m[\u001b[0m\u001b[0marr\u001b[0m\u001b[0;34m[\u001b[0m\u001b[0;34m'mean'\u001b[0m\u001b[0;34m]\u001b[0m\u001b[0;34m,\u001b[0m \u001b[0marr\u001b[0m\u001b[0;34m[\u001b[0m\u001b[0;34m'std'\u001b[0m\u001b[0;34m]\u001b[0m\u001b[0;34m,\u001b[0m \u001b[0marr\u001b[0m\u001b[0;34m[\u001b[0m\u001b[0;34m'sem'\u001b[0m\u001b[0;34m]\u001b[0m\u001b[0;34m]\u001b[0m\u001b[0;34m)\u001b[0m\u001b[0;34m\u001b[0m\u001b[0;34m\u001b[0m\u001b[0m\n\u001b[1;32m     11\u001b[0m \u001b[0;34m\u001b[0m\u001b[0m\n",
      "\u001b[0;32m~/miniconda3/envs/aco_rw/lib/python3.6/site-packages/numpy/lib/npyio.py\u001b[0m in \u001b[0;36mload\u001b[0;34m(file, mmap_mode, allow_pickle, fix_imports, encoding)\u001b[0m\n\u001b[1;32m    414\u001b[0m             \u001b[0mown_fid\u001b[0m \u001b[0;34m=\u001b[0m \u001b[0;32mFalse\u001b[0m\u001b[0;34m\u001b[0m\u001b[0;34m\u001b[0m\u001b[0m\n\u001b[1;32m    415\u001b[0m         \u001b[0;32melse\u001b[0m\u001b[0;34m:\u001b[0m\u001b[0;34m\u001b[0m\u001b[0;34m\u001b[0m\u001b[0m\n\u001b[0;32m--> 416\u001b[0;31m             \u001b[0mfid\u001b[0m \u001b[0;34m=\u001b[0m \u001b[0mstack\u001b[0m\u001b[0;34m.\u001b[0m\u001b[0menter_context\u001b[0m\u001b[0;34m(\u001b[0m\u001b[0mopen\u001b[0m\u001b[0;34m(\u001b[0m\u001b[0mos_fspath\u001b[0m\u001b[0;34m(\u001b[0m\u001b[0mfile\u001b[0m\u001b[0;34m)\u001b[0m\u001b[0;34m,\u001b[0m \u001b[0;34m\"rb\"\u001b[0m\u001b[0;34m)\u001b[0m\u001b[0;34m)\u001b[0m\u001b[0;34m\u001b[0m\u001b[0;34m\u001b[0m\u001b[0m\n\u001b[0m\u001b[1;32m    417\u001b[0m             \u001b[0mown_fid\u001b[0m \u001b[0;34m=\u001b[0m \u001b[0;32mTrue\u001b[0m\u001b[0;34m\u001b[0m\u001b[0;34m\u001b[0m\u001b[0m\n\u001b[1;32m    418\u001b[0m \u001b[0;34m\u001b[0m\u001b[0m\n",
      "\u001b[0;31mFileNotFoundError\u001b[0m: [Errno 2] No such file or directory: 'stuff/results/aco_pp/histories_rw_levy_proximity_params_q_0/history_exp_28.npy'"
     ]
    }
   ],
   "source": [
    "# plot histories_params_p\n",
    "\n",
    "res_dir = os.path.join(RESULTS_DIR, f\"histories_{sheet_name}\")\n",
    "\n",
    "temp_list = []\n",
    "for exp_idx, row in params.iterrows():\n",
    "    file_name = \"history_exp_{}.npy\".format(str(exp_idx).zfill(2))\n",
    "    file_name = os.path.join(res_dir, file_name)\n",
    "    arr = np.load(file_name, allow_pickle='TRUE').item()\n",
    "    temp_list.append([arr['mean'], arr['std'], arr['sem']])\n",
    "\n",
    "#temp_list\n",
    "data = np.array(temp_list)\n",
    "data.shape"
   ]
  },
  {
   "cell_type": "code",
   "execution_count": 17,
   "id": "9ec786fd",
   "metadata": {},
   "outputs": [],
   "source": [
    "val1_name = 'proximity'\n",
    "val2_name = 'omega'\n",
    "temp1 = []\n",
    "for i in params[val1_name].unique():\n",
    "    temp2 = []\n",
    "    for j in params[val2_name].unique():\n",
    "        temp_df = params[(params[val2_name] == j) & (params[val1_name] == i)]\n",
    "        row_id = temp_df.index[0]\n",
    "        temp2.append(data[row_id,0])\n",
    "    temp1.append(temp2)\n",
    "    \n",
    "test_data = np.array(temp1)"
   ]
  },
  {
   "cell_type": "code",
   "execution_count": 18,
   "id": "6cf25f1f",
   "metadata": {
    "scrolled": true
   },
   "outputs": [
    {
     "name": "stdout",
     "output_type": "stream",
     "text": [
      "min dist: 187.7221096280845\n",
      "min dist: 187.5318219043357\n"
     ]
    },
    {
     "data": {
      "image/png": "[encoded data removed]",
      "text/plain": [
       "<Figure size 432x360 with 1 Axes>"
      ]
     },
     "metadata": {
      "needs_background": "light"
     },
     "output_type": "display_data"
    }
   ],
   "source": [
    "plot_many_distances(data = test_data, \n",
    "                    x_values = params[val2_name].unique(), \n",
    "                    legend_labels = params[val1_name].unique(),\n",
    "                    legend_title = r'$\\omega$')"
   ]
  },
  {
   "cell_type": "code",
   "execution_count": 19,
   "id": "d86aec69",
   "metadata": {},
   "outputs": [
    {
     "data": {
      "text/plain": [
       "(6, 10000)"
      ]
     },
     "execution_count": 19,
     "metadata": {},
     "output_type": "execute_result"
    }
   ],
   "source": [
    "# plot histories_params_p\n",
    "\n",
    "res_dir = os.path.join(RESULTS_DIR, f\"histories_{sheet_name}\")\n",
    "\n",
    "temp_list = []\n",
    "for exp_idx, row in params.iterrows():\n",
    "    file_name = \"history_exp_{}.npy\".format(str(exp_idx).zfill(2))\n",
    "    file_name = os.path.join(res_dir, file_name)\n",
    "    arr = np.load(file_name, allow_pickle='TRUE').item()\n",
    "    temp_list.append(arr['distances'])\n",
    "\n",
    "#temp_list\n",
    "data = np.array(temp_list)\n",
    "data.shape\n",
    "\n",
    "#mean, std, sem"
   ]
  },
  {
   "cell_type": "code",
   "execution_count": 20,
   "id": "48483248",
   "metadata": {},
   "outputs": [
    {
     "data": {
      "text/html": [
       "<div>\n",
       "<style scoped>\n",
       "    .dataframe tbody tr th:only-of-type {\n",
       "        vertical-align: middle;\n",
       "    }\n",
       "\n",
       "    .dataframe tbody tr th {\n",
       "        vertical-align: top;\n",
       "    }\n",
       "\n",
       "    .dataframe thead th {\n",
       "        text-align: right;\n",
       "    }\n",
       "</style>\n",
       "<table border=\"1\" class=\"dataframe\">\n",
       "  <thead>\n",
       "    <tr style=\"text-align: right;\">\n",
       "      <th></th>\n",
       "      <th>distance</th>\n",
       "      <th>proximity</th>\n",
       "      <th>omega</th>\n",
       "    </tr>\n",
       "  </thead>\n",
       "  <tbody>\n",
       "    <tr>\n",
       "      <th>0</th>\n",
       "      <td>229.708204</td>\n",
       "      <td>proximity_1</td>\n",
       "      <td>2</td>\n",
       "    </tr>\n",
       "    <tr>\n",
       "      <th>1</th>\n",
       "      <td>156.000000</td>\n",
       "      <td>proximity_1</td>\n",
       "      <td>2</td>\n",
       "    </tr>\n",
       "    <tr>\n",
       "      <th>2</th>\n",
       "      <td>238.000000</td>\n",
       "      <td>proximity_1</td>\n",
       "      <td>2</td>\n",
       "    </tr>\n",
       "    <tr>\n",
       "      <th>3</th>\n",
       "      <td>207.341664</td>\n",
       "      <td>proximity_1</td>\n",
       "      <td>2</td>\n",
       "    </tr>\n",
       "    <tr>\n",
       "      <th>4</th>\n",
       "      <td>304.983069</td>\n",
       "      <td>proximity_1</td>\n",
       "      <td>2</td>\n",
       "    </tr>\n",
       "  </tbody>\n",
       "</table>\n",
       "</div>"
      ],
      "text/plain": [
       "     distance    proximity  omega\n",
       "0  229.708204  proximity_1      2\n",
       "1  156.000000  proximity_1      2\n",
       "2  238.000000  proximity_1      2\n",
       "3  207.341664  proximity_1      2\n",
       "4  304.983069  proximity_1      2"
      ]
     },
     "execution_count": 20,
     "metadata": {},
     "output_type": "execute_result"
    }
   ],
   "source": [
    "frames = []\n",
    "\n",
    "for i in range(len(data)):\n",
    "    tmp_df = pd.DataFrame(data[i], columns =['distance'])\n",
    "    tmp_df[val1_name] = params.loc[i][val1_name]\n",
    "    tmp_df[val2_name] = params.loc[i][val2_name]\n",
    "    tmp_df.head()\n",
    "    frames.append(tmp_df)\n",
    "    \n",
    "test_df = pd.concat(frames)\n",
    "test_df.head()"
   ]
  },
  {
   "cell_type": "code",
   "execution_count": 21,
   "id": "b98dbf62",
   "metadata": {},
   "outputs": [
    {
     "data": {
      "text/plain": [
       "Text(0, 0.5, '$\\\\langle x \\\\rangle$')"
      ]
     },
     "execution_count": 21,
     "metadata": {},
     "output_type": "execute_result"
    },
    {
     "data": {
      "image/png": "[encoded data removed]",
      "text/plain": [
       "<Figure size 432x288 with 1 Axes>"
      ]
     },
     "metadata": {
      "needs_background": "light"
     },
     "output_type": "display_data"
    }
   ],
   "source": [
    "ax = sns.violinplot(x=val2_name, y=\"distance\", hue=val1_name,\n",
    "                    data=test_df, palette=\"muted\")#, split=True)\n",
    "ax.set_ylim(85, 300)\n",
    "ax.set(xlabel=r'$\\omega$')\n",
    "ax.legend(title=\"\")\n",
    "ax.set_ylabel(r\"$\\langle x \\rangle$\", rotation=0, labelpad=10)"
   ]
  },
  {
   "cell_type": "markdown",
   "id": "d65bd8d1",
   "metadata": {},
   "source": [
    "## Combination"
   ]
  },
  {
   "cell_type": "code",
   "execution_count": 32,
   "id": "ee67e579",
   "metadata": {},
   "outputs": [
    {
     "data": {
      "text/plain": [
       "(9, 3)"
      ]
     },
     "execution_count": 32,
     "metadata": {},
     "output_type": "execute_result"
    }
   ],
   "source": [
    "# plot histories_params_p\n",
    "sheet_name = \"rw_levy_greedy_params_omega\"\n",
    "params = pd.read_excel(EXPERIMENT_FILE, sheet_name=sheet_name)\n",
    "params.head()\n",
    "\n",
    "res_dir = os.path.join(RESULTS_DIR, f\"histories_{sheet_name}\")\n",
    "\n",
    "temp_list = []\n",
    "for exp_idx, row in params.iterrows():\n",
    "    file_name = \"history_exp_{}.npy\".format(str(exp_idx).zfill(2))\n",
    "    file_name = os.path.join(res_dir, file_name)\n",
    "    arr = np.load(file_name, allow_pickle='TRUE').item()\n",
    "    temp_list.append([arr['mean'], arr['std'], arr['sem']])\n",
    "\n",
    "#temp_list\n",
    "data = np.array(temp_list)\n",
    "data.shape\n",
    "\n",
    "#mean, std, sem"
   ]
  },
  {
   "cell_type": "code",
   "execution_count": 33,
   "id": "ee3fe999",
   "metadata": {},
   "outputs": [
    {
     "data": {
      "text/plain": [
       "array([[168.48593646, 161.88682256, 160.97399934],\n",
       "       [156.81792373, 149.27965427, 148.62307319],\n",
       "       [147.30318799, 141.19269577, 140.41660537]])"
      ]
     },
     "execution_count": 33,
     "metadata": {},
     "output_type": "execute_result"
    }
   ],
   "source": [
    "val1_name = 'advantage'\n",
    "val2_name = 'omega'\n",
    "temp1 = []\n",
    "for i in params[val1_name].unique():\n",
    "    temp2 = []\n",
    "    for j in params[val2_name].unique():\n",
    "        temp_df = params[(params[val2_name] == j) & (params[val1_name] == i)]\n",
    "        row_id = temp_df.index[0]\n",
    "        temp2.append(data[row_id,0])\n",
    "    temp1.append(temp2)\n",
    "    \n",
    "test_data = np.array(temp1)\n",
    "test_data"
   ]
  },
  {
   "cell_type": "code",
   "execution_count": 34,
   "id": "d3727b0a",
   "metadata": {},
   "outputs": [
    {
     "data": {
      "text/plain": [
       "['greedy $\\\\omega = $ 2.0',\n",
       " 'greedy $\\\\omega = $ 2.5',\n",
       " 'greedy $\\\\omega = $ 3.0']"
      ]
     },
     "execution_count": 34,
     "metadata": {},
     "output_type": "execute_result"
    }
   ],
   "source": [
    "legend_labels = [ f\"greedy $\\omega = $ {i}\" for i in params[val1_name].unique()]\n",
    "legend_labels"
   ]
  },
  {
   "cell_type": "code",
   "execution_count": 35,
   "id": "d6e8ec5f",
   "metadata": {},
   "outputs": [
    {
     "data": {
      "text/plain": [
       "(6, 3)"
      ]
     },
     "execution_count": 35,
     "metadata": {},
     "output_type": "execute_result"
    }
   ],
   "source": [
    "# plot histories_params_p\n",
    "sheet_name = \"rw_levy_proximity_params_q_0\"\n",
    "params = pd.read_excel(EXPERIMENT_FILE, sheet_name=sheet_name)\n",
    "params.head()\n",
    "\n",
    "res_dir = os.path.join(RESULTS_DIR, f\"histories_{sheet_name}\")\n",
    "\n",
    "temp_list = []\n",
    "for exp_idx, row in params.iterrows():\n",
    "    file_name = \"history_exp_{}.npy\".format(str(exp_idx).zfill(2))\n",
    "    file_name = os.path.join(res_dir, file_name)\n",
    "    arr = np.load(file_name, allow_pickle='TRUE').item()\n",
    "    temp_list.append([arr['mean'], arr['std'], arr['sem']])\n",
    "\n",
    "#temp_list\n",
    "data = np.array(temp_list)\n",
    "data.shape\n"
   ]
  },
  {
   "cell_type": "code",
   "execution_count": 36,
   "id": "3eb14297",
   "metadata": {},
   "outputs": [
    {
     "data": {
      "text/plain": [
       "array([[197.11191062, 188.62233574, 187.72210963],\n",
       "       [198.31129037, 188.12185718, 187.5318219 ]])"
      ]
     },
     "execution_count": 36,
     "metadata": {},
     "output_type": "execute_result"
    }
   ],
   "source": [
    "val1_name = 'proximity'\n",
    "val2_name = 'omega'\n",
    "temp1 = []\n",
    "for i in params[val1_name].unique():\n",
    "    temp2 = []\n",
    "    for j in params[val2_name].unique():\n",
    "        temp_df = params[(params[val2_name] == j) & (params[val1_name] == i)]\n",
    "        row_id = temp_df.index[0]\n",
    "        temp2.append(data[row_id,0])\n",
    "    temp1.append(temp2)\n",
    "    \n",
    "test_data2 = np.array(temp1)\n",
    "test_data2"
   ]
  },
  {
   "cell_type": "code",
   "execution_count": 37,
   "id": "9f146074",
   "metadata": {},
   "outputs": [
    {
     "data": {
      "text/plain": [
       "array([[168.48593646, 161.88682256, 160.97399934],\n",
       "       [156.81792373, 149.27965427, 148.62307319],\n",
       "       [147.30318799, 141.19269577, 140.41660537],\n",
       "       [197.11191062, 188.62233574, 187.72210963],\n",
       "       [198.31129037, 188.12185718, 187.5318219 ]])"
      ]
     },
     "execution_count": 37,
     "metadata": {},
     "output_type": "execute_result"
    }
   ],
   "source": [
    "plot_data = np.concatenate([test_data,test_data2])\n",
    "plot_data"
   ]
  },
  {
   "cell_type": "code",
   "execution_count": 38,
   "id": "717a9e0d",
   "metadata": {},
   "outputs": [
    {
     "data": {
      "text/plain": [
       "array(['greedy $\\\\omega = $ 2.0', 'greedy $\\\\omega = $ 2.5',\n",
       "       'greedy $\\\\omega = $ 3.0', 'proximity_1', 'proximity_2'],\n",
       "      dtype=object)"
      ]
     },
     "execution_count": 38,
     "metadata": {},
     "output_type": "execute_result"
    }
   ],
   "source": [
    "legend_labels = np.concatenate([legend_labels, params[val1_name].unique()])\n",
    "legend_labels"
   ]
  },
  {
   "cell_type": "code",
   "execution_count": 40,
   "id": "20b24677",
   "metadata": {},
   "outputs": [
    {
     "name": "stdout",
     "output_type": "stream",
     "text": [
      "min dist: 160.97399934258698\n",
      "min dist: 148.62307318580014\n",
      "min dist: 140.41660537040673\n",
      "min dist: 187.7221096280845\n",
      "min dist: 187.5318219043357\n"
     ]
    },
    {
     "data": {
      "image/png": "[encoded data removed]",
      "text/plain": [
       "<Figure size 432x360 with 1 Axes>"
      ]
     },
     "metadata": {
      "needs_background": "light"
     },
     "output_type": "display_data"
    }
   ],
   "source": [
    "plot_many_distances(data = plot_data, \n",
    "                    x_values = params[val2_name].unique(), \n",
    "                    legend_labels = legend_labels,\n",
    "                    legend_title = '')"
   ]
  },
  {
   "cell_type": "code",
   "execution_count": null,
   "id": "5c10059c",
   "metadata": {},
   "outputs": [],
   "source": []
  }
 ],
 "metadata": {
  "kernelspec": {
   "display_name": "Python 3",
   "language": "python",
   "name": "python3"
  },
  "language_info": {
   "codemirror_mode": {
    "name": "ipython",
    "version": 3
   },
   "file_extension": ".py",
   "mimetype": "text/x-python",
   "name": "python",
   "nbconvert_exporter": "python",
   "pygments_lexer": "ipython3",
   "version": "3.6.9"
  }
 },
 "nbformat": 4,
 "nbformat_minor": 5
}
