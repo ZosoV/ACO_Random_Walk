{
 "cells": [
  {
   "cell_type": "markdown",
   "metadata": {
    "id": "7LCF-9ptsE0Z"
   },
   "source": [
    "# Random Walks\n",
    "\n",
    "In this notebook, we implemented a variety of random walks based on the main class `Walker`. All the random walker operates over a graph, which has nodes in a lattice configuration, and just connections to the near four neighbors are allowed (top, bottom, left, right)."
   ]
  },
  {
   "cell_type": "code",
   "execution_count": 1,
   "metadata": {
    "colab": {
     "base_uri": "https://localhost:8080/"
    },
    "executionInfo": {
     "elapsed": 19848,
     "status": "ok",
     "timestamp": 1621720877914,
     "user": {
      "displayName": "Oscar Guarnizo",
      "photoUrl": "https://lh3.googleusercontent.com/a-/AOh14GheAnA882D9R56DoQ_3Y3rbrnPGkT1zqcIi2ysoQg=s64",
      "userId": "12551427865753564350"
     },
     "user_tz": 300
    },
    "id": "Swb-gCMIRJar",
    "outputId": "69596202-c42b-4ac1-d7df-a8ac7fcc476d"
   },
   "outputs": [
    {
     "name": "stdout",
     "output_type": "stream",
     "text": [
      "Mounted at /content/gdrive\n"
     ]
    }
   ],
   "source": [
    "#from google.colab import drive\n",
    "#drive.mount('/content/gdrive')"
   ]
  },
  {
   "cell_type": "code",
   "execution_count": 16,
   "metadata": {
    "colab": {
     "base_uri": "https://localhost:8080/"
    },
    "executionInfo": {
     "elapsed": 530,
     "status": "ok",
     "timestamp": 1621720878439,
     "user": {
      "displayName": "Oscar Guarnizo",
      "photoUrl": "https://lh3.googleusercontent.com/a-/AOh14GheAnA882D9R56DoQ_3Y3rbrnPGkT1zqcIi2ysoQg=s64",
      "userId": "12551427865753564350"
     },
     "user_tz": 300
    },
    "id": "68SGeWRERJas",
    "outputId": "b92f0871-a109-4fa6-c4a4-4863aa48094b"
   },
   "outputs": [],
   "source": [
    "#%cd /content/gdrive/MyDrive/Proyectos/aco_random_walk/"
   ]
  },
  {
   "cell_type": "code",
   "execution_count": 15,
   "metadata": {},
   "outputs": [
    {
     "output_type": "stream",
     "name": "stdout",
     "text": [
      "/home/zosov/ACO_Random_Walk\nLICENSE  README.md  kite_tutorial.ipynb  model\tnotebooks  stuff  utils\n"
     ]
    }
   ],
   "source": [
    "%cd /home/zosov/ACO_Random_Walk/\n",
    "!ls"
   ]
  },
  {
   "cell_type": "code",
   "execution_count": 17,
   "metadata": {
    "colab": {
     "base_uri": "https://localhost:8080/"
    },
    "executionInfo": {
     "elapsed": 8,
     "status": "ok",
     "timestamp": 1621720878440,
     "user": {
      "displayName": "Oscar Guarnizo",
      "photoUrl": "https://lh3.googleusercontent.com/a-/AOh14GheAnA882D9R56DoQ_3Y3rbrnPGkT1zqcIi2ysoQg=s64",
      "userId": "12551427865753564350"
     },
     "user_tz": 300
    },
    "id": "-QBuYlwv9W4S",
    "outputId": "fc49a7aa-dce9-4430-9f31-468464ce672f"
   },
   "outputs": [
    {
     "output_type": "stream",
     "name": "stdout",
     "text": [
      "LICENSE  README.md  kite_tutorial.ipynb  model\tnotebooks  stuff  utils\n"
     ]
    }
   ],
   "source": [
    "!ls"
   ]
  },
  {
   "cell_type": "code",
   "execution_count": 18,
   "metadata": {
    "executionInfo": {
     "elapsed": 2321,
     "status": "ok",
     "timestamp": 1621720882079,
     "user": {
      "displayName": "Oscar Guarnizo",
      "photoUrl": "https://lh3.googleusercontent.com/a-/AOh14GheAnA882D9R56DoQ_3Y3rbrnPGkT1zqcIi2ysoQg=s64",
      "userId": "12551427865753564350"
     },
     "user_tz": 300
    },
    "id": "8xNoMLUPuzn3"
   },
   "outputs": [],
   "source": [
    "# import necessary libraries\n",
    "import networkx as nx\n",
    "import matplotlib.pyplot as plt\n",
    "from matplotlib.pyplot import figure\n",
    "\n",
    "import enum\n",
    "import numpy as np\n",
    "import random\n",
    "import os\n",
    "import pandas as pd\n",
    "from collections import Counter\n",
    "import math\n",
    "\n",
    "#own functions\n",
    "import model.graph_env as ge\n",
    "import utils.visualization as vis"
   ]
  },
  {
   "cell_type": "code",
   "execution_count": 19,
   "metadata": {
    "executionInfo": {
     "elapsed": 5,
     "status": "ok",
     "timestamp": 1621720882080,
     "user": {
      "displayName": "Oscar Guarnizo",
      "photoUrl": "https://lh3.googleusercontent.com/a-/AOh14GheAnA882D9R56DoQ_3Y3rbrnPGkT1zqcIi2ysoQg=s64",
      "userId": "12551427865753564350"
     },
     "user_tz": 300
    },
    "id": "mRHJzogau2B_"
   },
   "outputs": [],
   "source": [
    "DATA_DIR = \"stuff/data/random_maze/\"\n",
    "SAVING_DIR = \"stuff/results/aco_pp/\"\n",
    "PROXIMITIES_DIR = SAVING_DIR + \"proximities/\"\n",
    "RANDOM_WALK_DIR = SAVING_DIR + \"random_walks/\"\n",
    "\n",
    "if not os.path.exists(DATA_DIR):\n",
    "  os.mkdir(DATA_DIR)\n",
    "\n",
    "if not os.path.exists(SAVING_DIR):\n",
    "  os.mkdir(SAVING_DIR)\n",
    "\n",
    "if not os.path.exists(PROXIMITIES_DIR):\n",
    "  os.mkdir(PROXIMITIES_DIR)\n",
    "\n",
    "if not os.path.exists(RANDOM_WALK_DIR):\n",
    "  os.mkdir(RANDOM_WALK_DIR)"
   ]
  },
  {
   "cell_type": "markdown",
   "metadata": {
    "id": "JQWVVJNRA1Pw"
   },
   "source": [
    "# Base Walker class\n",
    "\n",
    "This is the base walker class which defines the way to deposit pheromones and some basic operations."
   ]
  },
  {
   "cell_type": "code",
   "execution_count": 23,
   "metadata": {
    "executionInfo": {
     "elapsed": 187,
     "status": "ok",
     "timestamp": 1621720883655,
     "user": {
      "displayName": "Oscar Guarnizo",
      "photoUrl": "https://lh3.googleusercontent.com/a-/AOh14GheAnA882D9R56DoQ_3Y3rbrnPGkT1zqcIi2ysoQg=s64",
      "userId": "12551427865753564350"
     },
     "user_tz": 300
    },
    "id": "GAYAhP757pbJ"
   },
   "outputs": [],
   "source": [
    "def get_distance(pos1, pos2, distance):\n",
    "  x1, y1 = pos1\n",
    "  x2, y2 = pos2\n",
    "\n",
    "  if distance == 'euclidean':\n",
    "    result = np.sqrt((x2-x1)**2 + (y2-y1)**2)\n",
    "  elif distance == 'manhattan':\n",
    "    result = np.s(x2-x1) + np.abs(y2-y1)\n",
    "\n",
    "  return result"
   ]
  },
  {
   "cell_type": "code",
   "execution_count": 24,
   "metadata": {
    "executionInfo": {
     "elapsed": 216,
     "status": "ok",
     "timestamp": 1621720884655,
     "user": {
      "displayName": "Oscar Guarnizo",
      "photoUrl": "https://lh3.googleusercontent.com/a-/AOh14GheAnA882D9R56DoQ_3Y3rbrnPGkT1zqcIi2ysoQg=s64",
      "userId": "12551427865753564350"
     },
     "user_tz": 300
    },
    "id": "9Tk9j0eD5IRR"
   },
   "outputs": [],
   "source": [
    "class Walker():\n",
    "  def __init__(self, graph, q_0 = None, reward_tau = 0.0001):\n",
    "    \n",
    "  \n",
    "    self.graph = graph\n",
    "    self.q_0 = q_0\n",
    "    self.size = graph.size\n",
    "    self.start_node = 0\n",
    "    self.target_node = graph.size * graph.size - 1\n",
    "    self.reset_walk()\n",
    "\n",
    "  def reset_walk(self):\n",
    "    self.current_path = []\n",
    "    self.current_position = self.start_node\n",
    "    self.visited_nodes = []\n",
    "\n",
    "  def get_distance_path(self):\n",
    "    total_distance = 0\n",
    "    for node1, node2 in self.current_path:\n",
    "      pos1 = self.graph.nodes[node1]['pos']\n",
    "      pos2 = self.graph.nodes[node2]['pos']\n",
    "      total_distance += get_distance(pos1, pos2, 'euclidean')\n",
    "\n",
    "    return total_distance\n",
    "\n",
    "  def end_route(self):\n",
    "    return self.current_position == self.target_node\n"
   ]
  },
  {
   "cell_type": "markdown",
   "metadata": {
    "id": "LRzfxYdfv5tI"
   },
   "source": [
    "# Proximity Random Walker\n",
    "\n",
    "This random walker is with tendency based on the proximity measure, which represents the distance from the neighbor node to the target node. In this way, the random walks follows the following decision-making algorithm in each step.\n",
    "\n",
    "Let the node $i$, the probability of move from node $i$ to node $j$ is\n",
    "\n",
    "$$ p_{i j}^{k}= \\frac{\\upsilon_{i j} }{\\sum_{n_{i l} \\in \\mathrm{N}(s^{p})} \\upsilon_{i l}}  \\quad \\text{if} \\quad n_{ij} \\in \\mathbf{N}_i $$\n",
    "\n",
    "\n",
    "\n",
    "where $\\mathrm{N}_i$ is the set of feasible neighbors nodes, and $\\upsilon_{ij}$ is the proximity of the neighbor node $j$ respect to the current node $i$.\n",
    "\n",
    "In this way, the algorithm encourages to the walker to direct to the target node whereas mantains its random behavior."
   ]
  },
  {
   "cell_type": "markdown",
   "metadata": {
    "id": "qz7L-RKX0zWJ"
   },
   "source": [
    "### Proximity and Multiplication Step\n",
    "\n",
    "The `proximity` represent the inverse relative distance of a neighbor node to the target node. In this section, we review the distribution of this metric in environments with different sizes. Also, we propose a **proximity 2** to reduce the sparse values. The proximity of current node $i$ respect to the neighbor node $j$ is\n",
    "\n",
    "$$ \\mathrm{proximity1}_{ij} = \\frac{1}{d_{jt}} = \\upsilon_{ij} $$\n",
    "\n",
    "where $d_{jt}$ is the manhattan or euclidean distance of the neighbor node $j$ to the target node $t$.\n",
    "\n",
    "Additionally, here we propose to multiply the previous inverse distance to $d_{it}$, the distance of the current node $i$ to the target node $t$, as\n",
    "\n",
    "$$ \\mathrm{proximity2}_{ij} = \\frac{d_{it}}{d_{jt}} = \\upsilon_{ij} $$\n",
    "\n"
   ]
  },
  {
   "cell_type": "markdown",
   "metadata": {
    "id": "Uv9T3PKX037A"
   },
   "source": [
    "### Local and Global Normalization\n",
    "\n",
    "In this section, we wondered if it is necessary to mantain the proximity values within of acceptable range of values. In this regard, we evaluate diverse normalization steps to a global and local level.\n",
    "\n",
    "* `global`: applies a normalization between all the proximities values of the whole environment.\n",
    "* `local`: applies a normalization in each step of the walker, or, in other words, between the proximities values of the neighbor nodes belonging to $N(n^i)$.\n",
    "\n",
    "In order to check different normalization methods, we used:\n",
    "\n",
    "* `standard`\n",
    "* `l2-norm`\n",
    "* `max-min`"
   ]
  },
  {
   "cell_type": "code",
   "execution_count": 8,
   "metadata": {
    "executionInfo": {
     "elapsed": 190,
     "status": "ok",
     "timestamp": 1621720887642,
     "user": {
      "displayName": "Oscar Guarnizo",
      "photoUrl": "https://lh3.googleusercontent.com/a-/AOh14GheAnA882D9R56DoQ_3Y3rbrnPGkT1zqcIi2ysoQg=s64",
      "userId": "12551427865753564350"
     },
     "user_tz": 300
    },
    "id": "nm6EZC5vmca-"
   },
   "outputs": [],
   "source": [
    "def get_proximity(graph, current_node, neighbor_node, target_node, \n",
    "                  mode = 'proximity_1', distance = 'euclidean'):\n",
    "  \"\"\"\n",
    "  Proximity. Calculate the proximity of the neighbor node.\n",
    "  :param graph:         graph environment\n",
    "  :param current_node:  index of the current node i\n",
    "  :param neighbor_node: index of the neihbor node j\n",
    "  :param target_node:   index of the neihbor node t\n",
    "  :param mode:          perform the proximity 1 or proximity 2\n",
    "  :param distance:      used distance to calculate the proximity\n",
    "  \"\"\"\n",
    "  pos_neighbor = graph.nodes[neighbor_node]['pos']\n",
    "  pos_target = graph.nodes[target_node]['pos']\n",
    "  pos_current = graph.nodes[current_node]['pos']\n",
    "\n",
    "  # distance: current node to target\n",
    "  dis_curr2target = get_distance(pos_current, pos_target, distance)\n",
    "  \n",
    "  # distance: neighbor to target\n",
    "  dis_neig2target = get_distance(pos_neighbor, pos_target, distance)\n",
    "  \n",
    "  if neighbor_node == target_node:\n",
    "    proximity = 1\n",
    "  else:\n",
    "\n",
    "    if mode == 'proximity_1':\n",
    "      proximity = 1/ dis_neig2target\n",
    "    elif mode == 'proximity_2':\n",
    "      proximity = dis_curr2target / dis_neig2target\n",
    "\n",
    "  return proximity"
   ]
  },
  {
   "cell_type": "code",
   "execution_count": 9,
   "metadata": {
    "executionInfo": {
     "elapsed": 4,
     "status": "ok",
     "timestamp": 1621720888339,
     "user": {
      "displayName": "Oscar Guarnizo",
      "photoUrl": "https://lh3.googleusercontent.com/a-/AOh14GheAnA882D9R56DoQ_3Y3rbrnPGkT1zqcIi2ysoQg=s64",
      "userId": "12551427865753564350"
     },
     "user_tz": 300
    },
    "id": "h_UgmmHUls8U"
   },
   "outputs": [],
   "source": [
    "def normalize_array(array, mode):\n",
    "  if mode == 'standard':\n",
    "    mean = np.mean(array)\n",
    "    std = np.std(array)\n",
    "\n",
    "    if std != 0.0:\n",
    "      array = (array - mean) / std\n",
    "\n",
    "  elif mode == 'l2-norm':\n",
    "    array = array / np.linalg.norm(array)\n",
    "\n",
    "\n",
    "  elif mode == 'max-min':\n",
    "    max = np.amax(array)\n",
    "    min = np.amin(array)\n",
    "    if (max - min) == 0.0:\n",
    "      array = np.repeat(0.5,len(array))\n",
    "    else:\n",
    "      array = (array - min) / (max - min)\n",
    "\n",
    "\n",
    "  return array\n"
   ]
  },
  {
   "cell_type": "code",
   "execution_count": 10,
   "metadata": {
    "cellView": "code",
    "executionInfo": {
     "elapsed": 3,
     "status": "ok",
     "timestamp": 1621720889157,
     "user": {
      "displayName": "Oscar Guarnizo",
      "photoUrl": "https://lh3.googleusercontent.com/a-/AOh14GheAnA882D9R56DoQ_3Y3rbrnPGkT1zqcIi2ysoQg=s64",
      "userId": "12551427865753564350"
     },
     "user_tz": 300
    },
    "id": "1LXxZ14ojUSI"
   },
   "outputs": [],
   "source": [
    "#@title Function: Calculate the proximities of the total environment\n",
    "def get_env_proximities(graph, \n",
    "                        normalization = None, \n",
    "                        proximity_mode = 'proximity_1', \n",
    "                        distance = 'manhattan', \n",
    "                        mode = 'global'):\n",
    "\n",
    "  target_node = graph.size * graph.size - 1\n",
    "\n",
    "  proximities_env = []\n",
    "\n",
    "  for current_node in range(graph.number_of_nodes()):\n",
    "    if current_node != target_node:\n",
    "      neighbors = graph[current_node]\n",
    "\n",
    "      # print(\"Node: \", current_node)\n",
    "\n",
    "      tmp_proximities = []\n",
    "      for neighbor_node, _ in neighbors.items():\n",
    "          # get the weight per neighbor\n",
    "          proximity = get_proximity(graph, \n",
    "                                      current_node,\n",
    "                                      neighbor_node, \n",
    "                                      target_node,\n",
    "                                      proximity_mode,\n",
    "                                      distance)\n",
    "          # proximities_env.append(proximity)\n",
    "          tmp_proximities.append(proximity)\n",
    "      \n",
    "      if mode == 'local':\n",
    "        tmp_proximities = normalize_array(tmp_proximities, normalization)\n",
    "\n",
    "      proximities_env = np.concatenate((proximities_env,tmp_proximities))\n",
    "\n",
    "  if mode == 'global':\n",
    "    proximities_env = normalize_array(proximities_env, normalization)\n",
    "\n",
    "  return proximities_env"
   ]
  },
  {
   "cell_type": "code",
   "execution_count": 11,
   "metadata": {
    "executionInfo": {
     "elapsed": 4,
     "status": "ok",
     "timestamp": 1621720889785,
     "user": {
      "displayName": "Oscar Guarnizo",
      "photoUrl": "https://lh3.googleusercontent.com/a-/AOh14GheAnA882D9R56DoQ_3Y3rbrnPGkT1zqcIi2ysoQg=s64",
      "userId": "12551427865753564350"
     },
     "user_tz": 300
    },
    "id": "925YX9bGq3Vl"
   },
   "outputs": [],
   "source": [
    "def get_group_proximities(graph, mode = 'global', sub_fix = \"\", save = False):\n",
    "  distances_options = ['euclidean', 'manhattan']\n",
    "  proximities_options = ['proximity-1', 'proximity-2']\n",
    "  normalization_options = ['none', 'standard', 'l2-norm', 'max-min']\n",
    "\n",
    "  file_name = 'proximities_'\n",
    "  file_name += 'size_{}_{}{}.npz'.format(graph.size,mode,sub_fix)\n",
    "\n",
    "  data = {}\n",
    "\n",
    "  for proxi_mode in proximities_options:\n",
    "    for normalization in normalization_options:\n",
    "      for distance_mode in distances_options:\n",
    "        proximities_env = get_env_proximities(graph, \n",
    "                                              normalization = normalization, \n",
    "                                              proximity_mode = proxi_mode.replace('-','_'), \n",
    "                                              distance = distance_mode,\n",
    "                                              mode = mode)\n",
    "        \n",
    "        id = \"{}_{}_{}\".format(proxi_mode, normalization, distance_mode)\n",
    "\n",
    "\n",
    "        data[id] = proximities_env\n",
    "\n",
    "  if save:\n",
    "    outpu_dir = os.path.join(PROXIMITIES_DIR, file_name)\n",
    "    np.savez(outpu_dir, **data)\n",
    "\n",
    "  return data"
   ]
  },
  {
   "cell_type": "code",
   "execution_count": 12,
   "metadata": {
    "colab": {
     "base_uri": "https://localhost:8080/"
    },
    "executionInfo": {
     "elapsed": 559,
     "status": "ok",
     "timestamp": 1621720891159,
     "user": {
      "displayName": "Oscar Guarnizo",
      "photoUrl": "https://lh3.googleusercontent.com/a-/AOh14GheAnA882D9R56DoQ_3Y3rbrnPGkT1zqcIi2ysoQg=s64",
      "userId": "12551427865753564350"
     },
     "user_tz": 300
    },
    "id": "6xjr7iIbYh9h",
    "outputId": "5363ff79-f983-4838-8221-f1075ed5b570"
   },
   "outputs": [
    {
     "name": "stdout",
     "output_type": "stream",
     "text": [
      "proximities_size_100_global.npz  proximities_size_10_local.npz\n",
      "proximities_size_10_global.npz\t proximities_size_10_local_stvmax_min.npz\n"
     ]
    }
   ],
   "source": [
    "!ls $PROXIMITIES_DIR"
   ]
  },
  {
   "cell_type": "code",
   "execution_count": 138,
   "metadata": {
    "executionInfo": {
     "elapsed": 224,
     "status": "ok",
     "timestamp": 1621665857943,
     "user": {
      "displayName": "Oscar Guarnizo",
      "photoUrl": "https://lh3.googleusercontent.com/a-/AOh14GheAnA882D9R56DoQ_3Y3rbrnPGkT1zqcIi2ysoQg=s64",
      "userId": "12551427865753564350"
     },
     "user_tz": 300
    },
    "id": "qQeIanhErIQF"
   },
   "outputs": [],
   "source": [
    "graph = ge.PPGraph(size = 10, tau_0 = 0.1)\n",
    "arr_list = get_group_proximities(graph, mode='local',save = 'True')"
   ]
  },
  {
   "cell_type": "code",
   "execution_count": 142,
   "metadata": {
    "colab": {
     "base_uri": "https://localhost:8080/",
     "height": 951
    },
    "executionInfo": {
     "elapsed": 5709,
     "status": "ok",
     "timestamp": 1621665899065,
     "user": {
      "displayName": "Oscar Guarnizo",
      "photoUrl": "https://lh3.googleusercontent.com/a-/AOh14GheAnA882D9R56DoQ_3Y3rbrnPGkT1zqcIi2ysoQg=s64",
      "userId": "12551427865753564350"
     },
     "user_tz": 300
    },
    "id": "q7jH5S8AdOiZ",
    "outputId": "1b7982c9-0b47-49f9-e3cd-4c12d493ce7e"
   },
   "outputs": [
    {
     "name": "stdout",
     "output_type": "stream",
     "text": [
      "[Load] proximities data:  stuff/results/aco_pp/proximities/proximities_size_10_local.npz\n"
     ]
    },
    {
     "data": {
      "image/png": "[encoded data removed]",
      "text/plain": [
       "<Figure size 1152x1152 with 16 Axes>"
      ]
     },
     "metadata": {
      "needs_background": "light",
      "tags": []
     },
     "output_type": "display_data"
    }
   ],
   "source": [
    "filename = os.path.join(PROXIMITIES_DIR,\"proximities_size_10_local.npz\")\n",
    "vis.plot_histograms(filename=filename, bins=100)"
   ]
  },
  {
   "cell_type": "code",
   "execution_count": 140,
   "metadata": {
    "executionInfo": {
     "elapsed": 363,
     "status": "ok",
     "timestamp": 1621665887333,
     "user": {
      "displayName": "Oscar Guarnizo",
      "photoUrl": "https://lh3.googleusercontent.com/a-/AOh14GheAnA882D9R56DoQ_3Y3rbrnPGkT1zqcIi2ysoQg=s64",
      "userId": "12551427865753564350"
     },
     "user_tz": 300
    },
    "id": "mWdpaqb60aCI"
   },
   "outputs": [],
   "source": [
    "graph = ge.PPGraph(size = 10, tau_0 = 0.1)\n",
    "arr_list = get_group_proximities(graph, mode='global',save = 'True')"
   ]
  },
  {
   "cell_type": "code",
   "execution_count": 141,
   "metadata": {
    "colab": {
     "base_uri": "https://localhost:8080/",
     "height": 951
    },
    "executionInfo": {
     "elapsed": 5841,
     "status": "ok",
     "timestamp": 1621665893360,
     "user": {
      "displayName": "Oscar Guarnizo",
      "photoUrl": "https://lh3.googleusercontent.com/a-/AOh14GheAnA882D9R56DoQ_3Y3rbrnPGkT1zqcIi2ysoQg=s64",
      "userId": "12551427865753564350"
     },
     "user_tz": 300
    },
    "id": "0YsZeown-mBt",
    "outputId": "2f05ead9-4446-4de1-b883-c8d78dd61329"
   },
   "outputs": [
    {
     "name": "stdout",
     "output_type": "stream",
     "text": [
      "[Load] proximities data:  stuff/results/aco_pp/proximities/proximities_size_10_global.npz\n"
     ]
    },
    {
     "data": {
      "image/png": "[encoded data removed]",
      "text/plain": [
       "<Figure size 1152x1152 with 16 Axes>"
      ]
     },
     "metadata": {
      "needs_background": "light",
      "tags": []
     },
     "output_type": "display_data"
    }
   ],
   "source": [
    "filename = os.path.join(PROXIMITIES_DIR,\"proximities_size_10_global.npz\")\n",
    "vis.plot_histograms(filename=filename, bins=100)"
   ]
  },
  {
   "cell_type": "markdown",
   "metadata": {
    "id": "A-T40DF1kj1z"
   },
   "source": [
    "Here according to the relevant proximities and normalization we evaluated different random walkers. Also, we decide to test only local normalization because it present more interesting variations."
   ]
  },
  {
   "cell_type": "code",
   "execution_count": 21,
   "metadata": {
    "executionInfo": {
     "elapsed": 184,
     "status": "ok",
     "timestamp": 1621721319263,
     "user": {
      "displayName": "Oscar Guarnizo",
      "photoUrl": "https://lh3.googleusercontent.com/a-/AOh14GheAnA882D9R56DoQ_3Y3rbrnPGkT1zqcIi2ysoQg=s64",
      "userId": "12551427865753564350"
     },
     "user_tz": 300
    },
    "id": "DCwzfmDJvskQ"
   },
   "outputs": [],
   "source": [
    "class ProximityWalker(Walker):\n",
    "  def __init__(self, graph, q_0 = None, reward_tau = 0.0001,\n",
    "               proximity_mode = 'proximity_1', distance_type = 'euclidean', \n",
    "               normalization = None):\n",
    "    \n",
    "    self.proximity_mode = proximity_mode\n",
    "    self.distance_type = distance_type\n",
    "    self.normalization = normalization\n",
    "    super().__init__(graph, q_0, reward_tau)\n",
    "\n",
    "\n",
    "  def update_step(self):\n",
    "    neighbors = self.graph[self.current_position]\n",
    "\n",
    "    weights = []\n",
    "    neighbors_idx = []\n",
    "    for neighbor_node, edge in neighbors.items():\n",
    "        # get the weight per neighbor\n",
    "        weights.append(get_proximity(self.graph, \n",
    "                                     self.current_position,\n",
    "                                     neighbor_node, \n",
    "                                     self.target_node,\n",
    "                                     self.proximity_mode,\n",
    "                                     self.distance_type))\n",
    "        neighbors_idx.append(neighbor_node)\n",
    "\n",
    "    # applied local normalization\n",
    "    if normalization is not None:\n",
    "      weights = normalize_array(weights, self.normalization)\n",
    "      \n",
    "\n",
    "    if self.q_0 is not None and np.random.rand() < self.q_0:\n",
    "      new_position = neighbors_idx[np.argmax(weights)]\n",
    "  \n",
    "    else:\n",
    "      acu_weight = sum(weights)\n",
    "      probabilities = np.array(weights)/acu_weight\n",
    "      #print(\"[INFO] probabilities: {}\".format(probabilities))\n",
    "\n",
    "      # choose an option following the wheel selection algorithm  \n",
    "      new_position = random.choices(neighbors_idx, weights = probabilities)[0]\n",
    "      \n",
    "    self.current_path.append((self.current_position, new_position))\n",
    "    self.visited_nodes.append(new_position)\n",
    "    self.current_position = new_position\n",
    "\n",
    "\n",
    "  def walk(self, num_rand_walks, save = False):\n",
    "    # Create\n",
    "    distances_list = []\n",
    "\n",
    "    for i in range(int(num_rand_walks)):\n",
    "      \n",
    "      is_complete = False\n",
    "\n",
    "      while not is_complete:\n",
    "        self.update_step()\n",
    "\n",
    "        is_complete = self.end_route()\n",
    "\n",
    "      #print(\"[INFO] n_rw: {} len_path: {}\".format(i, len(walker.current_path) ))\n",
    "      distances_list.append(len(self.current_path))\n",
    "\n",
    "      self.reset_walk()\n",
    "\n",
    "    if save:\n",
    "      self.saving_np_file(distances_list, num_rand_walks)\n",
    "    return distances_list\n",
    "\n",
    "  def saving_np_file(self, distances_list, num_rand_walks):\n",
    "    output_dir = os.path.join(RANDOM_WALK_DIR,\"rw_proximity/\")\n",
    "    if not os.path.exists(output_dir):\n",
    "      os.mkdir(output_dir)\n",
    "    filename = \"rw_prox_{}_size_{}_{}_{}_{}_q0_{}.npz\".format(\n",
    "        num_rand_walks,\n",
    "        self.graph.size,\n",
    "        self.proximity_mode.replace(\"_\",\"-\"),\n",
    "        self.distance_type,\n",
    "        self.normalization,\n",
    "        self.q_0\n",
    "    )\n",
    "    filename = os.path.join(output_dir,filename)\n",
    "    print(\"[Saving] rw distances: \", filename)\n",
    "    np.savez(filename, \n",
    "              distances = np.array(distances_list), \n",
    "              mean_std = np.array(np.mean(distances_list),np.std(distances_list)))"
   ]
  },
  {
   "cell_type": "code",
   "execution_count": 32,
   "metadata": {
    "colab": {
     "base_uri": "https://localhost:8080/"
    },
    "executionInfo": {
     "elapsed": 6720009,
     "status": "ok",
     "timestamp": 1621729635383,
     "user": {
      "displayName": "Oscar Guarnizo",
      "photoUrl": "https://lh3.googleusercontent.com/a-/AOh14GheAnA882D9R56DoQ_3Y3rbrnPGkT1zqcIi2ysoQg=s64",
      "userId": "12551427865753564350"
     },
     "user_tz": 300
    },
    "id": "6gnRxKfhDRln",
    "outputId": "b68add6c-4a4d-418e-e9fc-30aa5f7126e9"
   },
   "outputs": [
    {
     "name": "stdout",
     "output_type": "stream",
     "text": [
      "[Saving] rw distances:  stuff/results/aco_pp/random_walks/rw_proximity/rw_prox_100000_size_10_proximity-1_euclidean_none_q0_0.npz\n",
      "Proximity: proximity_1 Distance: euclidean Normalization: none Mean: 120.16732 Std: 74.18244269379109\n",
      "[Saving] rw distances:  stuff/results/aco_pp/random_walks/rw_proximity/rw_prox_100000_size_10_proximity-1_euclidean_l2-norm_q0_0.npz\n",
      "Proximity: proximity_1 Distance: euclidean Normalization: l2-norm Mean: 120.288 Std: 73.84717256605022\n",
      "[Saving] rw distances:  stuff/results/aco_pp/random_walks/rw_proximity/rw_prox_100000_size_10_proximity-1_euclidean_max-min_q0_0.npz\n",
      "Proximity: proximity_1 Distance: euclidean Normalization: max-min Mean: 20.74786 Std: 2.644470725948767\n",
      "[Saving] rw distances:  stuff/results/aco_pp/random_walks/rw_proximity/rw_prox_100000_size_10_proximity-1_manhattan_none_q0_0.npz\n",
      "Proximity: proximity_1 Distance: manhattan Normalization: none Mean: 110.78094 Std: 66.13849418240787\n",
      "[Saving] rw distances:  stuff/results/aco_pp/random_walks/rw_proximity/rw_prox_100000_size_10_proximity-1_manhattan_l2-norm_q0_0.npz\n",
      "Proximity: proximity_1 Distance: manhattan Normalization: l2-norm Mean: 110.46738 Std: 65.48280259683149\n",
      "[Saving] rw distances:  stuff/results/aco_pp/random_walks/rw_proximity/rw_prox_100000_size_10_proximity-1_manhattan_max-min_q0_0.npz\n",
      "Proximity: proximity_1 Distance: manhattan Normalization: max-min Mean: 18.0 Std: 0.0\n",
      "[Saving] rw distances:  stuff/results/aco_pp/random_walks/rw_proximity/rw_prox_100000_size_10_proximity-2_euclidean_none_q0_0.npz\n",
      "Proximity: proximity_2 Distance: euclidean Normalization: none Mean: 120.05996 Std: 73.45542760612317\n",
      "[Saving] rw distances:  stuff/results/aco_pp/random_walks/rw_proximity/rw_prox_100000_size_10_proximity-2_euclidean_l2-norm_q0_0.npz\n",
      "Proximity: proximity_2 Distance: euclidean Normalization: l2-norm Mean: 119.89108 Std: 72.64058023194474\n",
      "[Saving] rw distances:  stuff/results/aco_pp/random_walks/rw_proximity/rw_prox_100000_size_10_proximity-2_euclidean_max-min_q0_0.npz\n",
      "Proximity: proximity_2 Distance: euclidean Normalization: max-min Mean: 20.77134 Std: 2.659826047770794\n",
      "[Saving] rw distances:  stuff/results/aco_pp/random_walks/rw_proximity/rw_prox_100000_size_10_proximity-2_manhattan_none_q0_0.npz\n",
      "Proximity: proximity_2 Distance: manhattan Normalization: none Mean: 110.9037 Std: 66.21498626678103\n",
      "[Saving] rw distances:  stuff/results/aco_pp/random_walks/rw_proximity/rw_prox_100000_size_10_proximity-2_manhattan_l2-norm_q0_0.npz\n",
      "Proximity: proximity_2 Distance: manhattan Normalization: l2-norm Mean: 110.78408 Std: 65.79297119414505\n",
      "[Saving] rw distances:  stuff/results/aco_pp/random_walks/rw_proximity/rw_prox_100000_size_10_proximity-2_manhattan_max-min_q0_0.npz\n",
      "Proximity: proximity_2 Distance: manhattan Normalization: max-min Mean: 18.0 Std: 0.0\n"
     ]
    }
   ],
   "source": [
    "proximities_options = ['proximity_1', 'proximity_2']\n",
    "distances_options = ['euclidean', 'manhattan']\n",
    "normalization_options = [ 'none', 'l2-norm', 'max-min']\n",
    "num_rand_walks = int(1e5)\n",
    "q_0 = 0\n",
    "\n",
    "for proximity in proximities_options:\n",
    "\n",
    "  for distance in distances_options:\n",
    "\n",
    "    for normalization in normalization_options:\n",
    "      # Create the graph\n",
    "      graph = ge.PPGraph(size = 10, tau_0 = 0.1)\n",
    "\n",
    "      # Create the walker\n",
    "      walker = ProximityWalker(graph, \n",
    "                               q_0 = q_0, \n",
    "                               reward_tau = 0.0001,\n",
    "                               proximity_mode = proximity,\n",
    "                               distance_type = distance,\n",
    "                               normalization = normalization)\n",
    "\n",
    "      # Perform the walk\n",
    "      distances_list = walker.walk(num_rand_walks= num_rand_walks, save = True)\n",
    "      print(\"Proximity: {} Distance: {} Normalization: {} Mean: {} Std: {}\".format(\n",
    "          proximity,\n",
    "          distance,\n",
    "          normalization,\n",
    "          np.mean(distances_list),\n",
    "          np.std(distances_list)))\n",
    "      "
   ]
  },
  {
   "cell_type": "code",
   "execution_count": 26,
   "metadata": {
    "colab": {
     "base_uri": "https://localhost:8080/"
    },
    "executionInfo": {
     "elapsed": 181,
     "status": "ok",
     "timestamp": 1621721353124,
     "user": {
      "displayName": "Oscar Guarnizo",
      "photoUrl": "https://lh3.googleusercontent.com/a-/AOh14GheAnA882D9R56DoQ_3Y3rbrnPGkT1zqcIi2ysoQg=s64",
      "userId": "12551427865753564350"
     },
     "user_tz": 300
    },
    "id": "hs82RZFPGC34",
    "outputId": "2d307aea-76b0-4e49-aac6-87c5258a8611"
   },
   "outputs": [
    {
     "data": {
      "text/plain": [
       "['rw_prox_10_size_10_proximity-1_euclidean_none_q0_0.npz',\n",
       " 'rw_prox_10_size_10_proximity-1_euclidean_l2-norm_q0_0.npz',\n",
       " 'rw_prox_10_size_10_proximity-1_euclidean_max-min_q0_0.npz',\n",
       " 'rw_prox_10_size_10_proximity-1_manhattan_none_q0_0.npz',\n",
       " 'rw_prox_10_size_10_proximity-1_manhattan_l2-norm_q0_0.npz',\n",
       " 'rw_prox_10_size_10_proximity-1_manhattan_max-min_q0_0.npz',\n",
       " 'rw_prox_10_size_10_proximity-2_euclidean_none_q0_0.npz',\n",
       " 'rw_prox_10_size_10_proximity-2_euclidean_l2-norm_q0_0.npz',\n",
       " 'rw_prox_10_size_10_proximity-2_euclidean_max-min_q0_0.npz',\n",
       " 'rw_prox_10_size_10_proximity-2_manhattan_none_q0_0.npz',\n",
       " 'rw_prox_10_size_10_proximity-2_manhattan_l2-norm_q0_0.npz',\n",
       " 'rw_prox_10_size_10_proximity-2_manhattan_max-min_q0_0.npz']"
      ]
     },
     "execution_count": 26,
     "metadata": {
      "tags": []
     },
     "output_type": "execute_result"
    }
   ],
   "source": [
    "proximity_values = os.listdir(RANDOM_WALK_DIR + \"rw_proximity\")\n",
    "proximity_values"
   ]
  },
  {
   "cell_type": "code",
   "execution_count": 28,
   "metadata": {
    "executionInfo": {
     "elapsed": 175,
     "status": "ok",
     "timestamp": 1621721698624,
     "user": {
      "displayName": "Oscar Guarnizo",
      "photoUrl": "https://lh3.googleusercontent.com/a-/AOh14GheAnA882D9R56DoQ_3Y3rbrnPGkT1zqcIi2ysoQg=s64",
      "userId": "12551427865753564350"
     },
     "user_tz": 300
    },
    "id": "Y_m7ufViHOhZ"
   },
   "outputs": [],
   "source": [
    "dict_arrays = {}\n",
    "for file_npz in proximity_values:\n",
    "  proximity_type = file_npz.split(\"_\")[5]\n",
    "  distance_type = file_npz.split(\"_\")[6]\n",
    "  normalization_type = file_npz.split(\"_\")[7]\n",
    "  q0_value = file_npz.split(\"_\")[9]\n",
    "\n",
    "  id_name = \"{} {} {} {}\".format(\n",
    "      proximity_type,\n",
    "      distance_type,\n",
    "      normalization_type,\n",
    "      \"q_0: \" + q0_value\n",
    "  )\n",
    "  file_name = os.path.join(RANDOM_WALK_DIR + \"rw_proximity\",file_npz)\n",
    "  dict_arrays[id_name] = np.load(file_name)['distances']"
   ]
  },
  {
   "cell_type": "code",
   "execution_count": 30,
   "metadata": {
    "colab": {
     "base_uri": "https://localhost:8080/",
     "height": 716
    },
    "executionInfo": {
     "elapsed": 4384,
     "status": "ok",
     "timestamp": 1621721808732,
     "user": {
      "displayName": "Oscar Guarnizo",
      "photoUrl": "https://lh3.googleusercontent.com/a-/AOh14GheAnA882D9R56DoQ_3Y3rbrnPGkT1zqcIi2ysoQg=s64",
      "userId": "12551427865753564350"
     },
     "user_tz": 300
    },
    "id": "dyIIkyP5JV9w",
    "outputId": "b192fe13-d2f9-426c-feb9-8d1e886c5f8b"
   },
   "outputs": [
    {
     "data": {
      "image/png": "[encoded data removed]",
      "text/plain": [
       "<Figure size 1152x864 with 12 Axes>"
      ]
     },
     "metadata": {
      "needs_background": "light",
      "tags": []
     },
     "output_type": "display_data"
    }
   ],
   "source": [
    "vis.plot_histograms(dict_arrays,100)"
   ]
  },
  {
   "cell_type": "code",
   "execution_count": null,
   "metadata": {
    "colab": {
     "base_uri": "https://localhost:8080/",
     "height": 585
    },
    "id": "k_kxWW20ZVdJ",
    "outputId": "e91f5311-617a-4083-bc03-5dd197d81337"
   },
   "outputs": [
    {
     "data": {
      "image/png": "[encoded data removed]",
      "text/plain": [
       "<Figure size 1440x720 with 8 Axes>"
      ]
     },
     "metadata": {
      "needs_background": "light",
      "tags": []
     },
     "output_type": "display_data"
    }
   ],
   "source": [
    "rows = len(proximities_options)\n",
    "cols = len(distances_options) * len(normalization_options)\n",
    "inches = 5\n",
    "fig, axs = plt.subplots(rows, cols , figsize = (cols * inches, rows * inches))\n",
    "\n",
    "for i, proximity in enumerate(proximities_options):\n",
    "  j = 0\n",
    "  for distance in distances_options:\n",
    "    for normalization in normalization_options:\n",
    "      axs[i,j].hist(mul_distances_list[proximity][distance][normalization], bins=100)\n",
    "      axs[i,j].set_xlabel (\"Distances\")\n",
    "      axs[i,j].set_ylabel(\"Counts\")\n",
    "      #title = \"Random Walk Distances Distribution\\n\"\n",
    "      title = \"{} {} {}\".format(proximity,distance, normalization)\n",
    "      axs[i,j].set_title(title)\n",
    "      j += 1"
   ]
  },
  {
   "cell_type": "code",
   "execution_count": null,
   "metadata": {
    "id": "Zt2lyYA3dK4z"
   },
   "outputs": [],
   "source": [
    "q_0_options = [0.3, 0.5, 0.7, 0.9]\n",
    "proximity_type = \"proximity_2\"\n",
    "distance_type = \"manhattan\"\n",
    "\n",
    "def plot_distribution_q_0(q_0_options, proximity_type, distance_type):\n",
    "  rows = 1\n",
    "  cols = len(q_0_options)\n",
    "  inches = 5\n",
    "  fig, axs = plt.subplots(rows, cols) #, figsize = (cols * inches, rows * inches))\n",
    "\n",
    "  for i, q_0 in enumerate(q_0_options):\n",
    "    # Create the graph\n",
    "    graph = PPGraph(size = 10, tau_0 = 0.1)\n",
    "\n",
    "    # Create the walker\n",
    "    walker = Walker(graph, reward_tau = 0.0001, q_0 = q_0)\n",
    "\n",
    "    # Perform the walk\n",
    "    distances_list = walker.walk(num_rand_walks= 1e5,\n",
    "                                proximity_mode = proximity_type,\n",
    "                                distance_type =  distance_type,\n",
    "                                normalization = None)\n",
    "    print(\"Proximity: {} Distance: {} Normalization: {} Mean: {} Std: {}\".format(\n",
    "        proximity,\n",
    "        distance,\n",
    "        normalization,\n",
    "        np.mean(distances_list),\n",
    "        np.std(distances_list)))\n",
    "    \n",
    "    axs[i].hist(distances_list, bins=100)\n",
    "    axs[i].set_xlabel (\"Distances\")\n",
    "    axs[i].set_ylabel(\"Counts\")\n",
    "    #title = \"Random Walk Distances Distribution\\n\"\n",
    "    title = \"{} {} {} q_0: {}\".format(proximity_type, distance_type, normalization, q_0)\n",
    "    axs[i].set_title(title)\n",
    "    "
   ]
  },
  {
   "cell_type": "code",
   "execution_count": null,
   "metadata": {
    "colab": {
     "base_uri": "https://localhost:8080/",
     "height": 399
    },
    "id": "yYFUz7iJeqrK",
    "outputId": "58975f9f-60ab-418e-f245-9b90767faff5"
   },
   "outputs": [
    {
     "name": "stdout",
     "output_type": "stream",
     "text": [
      "Proximity: proximity_2 Distance: manhattan Normalization: l2-norm Mean: 43.03222 Std: 14.521550945804654\n",
      "Proximity: proximity_2 Distance: manhattan Normalization: l2-norm Mean: 30.5996 Std: 7.714842826655642\n",
      "Proximity: proximity_2 Distance: manhattan Normalization: l2-norm Mean: 23.8375 Std: 4.261656221470709\n",
      "Proximity: proximity_2 Distance: manhattan Normalization: l2-norm Mean: 19.58768 Std: 1.9055687386184732\n"
     ]
    },
    {
     "data": {
      "image/png": "[encoded data removed]",
      "text/plain": [
       "<Figure size 1440x360 with 4 Axes>"
      ]
     },
     "metadata": {
      "needs_background": "light",
      "tags": []
     },
     "output_type": "display_data"
    }
   ],
   "source": [
    "q_0_options = [0.3, 0.5, 0.7, 0.9]\n",
    "proximity_type = \"proximity_2\"\n",
    "distance_type = \"euclidean\"\n",
    "\n",
    "rows = 1\n",
    "cols = len(q_0_options)\n",
    "inches = 5\n",
    "fig, axs = plt.subplots(rows, cols , figsize = (cols * inches, rows * inches))\n",
    "\n",
    "for i, q_0 in enumerate(q_0_options):\n",
    "  # Create the graph\n",
    "  graph = PPGraph(size = 10, tau_0 = 0.1)\n",
    "\n",
    "  # Create the walker\n",
    "  walker = Walker(graph, reward_tau = 0.0001, q_0 = q_0)\n",
    "\n",
    "  # Perform the walk\n",
    "  distances_list = walker.walk(num_rand_walks= 1e5,\n",
    "                              proximity_mode = proximity_type,\n",
    "                              distance_type =  distance_type,\n",
    "                              normalization = None)\n",
    "  print(\"Proximity: {} Distance: {} Normalization: {} Mean: {} Std: {}\".format(\n",
    "      proximity,\n",
    "      distance,\n",
    "      normalization,\n",
    "      np.mean(distances_list),\n",
    "      np.std(distances_list)))\n",
    "  \n",
    "  axs[i].hist(distances_list, bins=100)\n",
    "  axs[i].set_xlabel (\"Distances\")\n",
    "  axs[i].set_ylabel(\"Counts\")\n",
    "  #title = \"Random Walk Distances Distribution\\n\"\n",
    "  title = \"{} {} {} q_0: {}\".format(proximity_type, distance_type, normalization, q_0)\n",
    "  axs[i].set_title(title)\n",
    "  "
   ]
  },
  {
   "cell_type": "code",
   "execution_count": null,
   "metadata": {
    "colab": {
     "base_uri": "https://localhost:8080/"
    },
    "id": "MJT4Vfev5IFu",
    "outputId": "fb3032bb-5986-498d-f2b2-b88cc00e279c"
   },
   "outputs": [
    {
     "data": {
      "text/plain": [
       "1"
      ]
     },
     "execution_count": 79,
     "metadata": {
      "tags": []
     },
     "output_type": "execute_result"
    }
   ],
   "source": [
    "arr = [1, 3, 2, 2]\n",
    "winner = np.argwhere(arr == np.amax(arr))\n",
    "\n",
    "np.random.choice(winner.flatten(), 1)[0]"
   ]
  },
  {
   "cell_type": "markdown",
   "metadata": {
    "id": "jIhiuTAPdkHP"
   },
   "source": [
    "1. proximidad + q_0 + levy flight \n",
    "2. greedy + q_0 + levy flight\n",
    "\n"
   ]
  },
  {
   "cell_type": "code",
   "execution_count": 183,
   "metadata": {
    "executionInfo": {
     "elapsed": 184,
     "status": "ok",
     "timestamp": 1621669966527,
     "user": {
      "displayName": "Oscar Guarnizo",
      "photoUrl": "https://lh3.googleusercontent.com/a-/AOh14GheAnA882D9R56DoQ_3Y3rbrnPGkT1zqcIi2ysoQg=s64",
      "userId": "12551427865753564350"
     },
     "user_tz": 300
    },
    "id": "l0X9oYnAkK5c"
   },
   "outputs": [],
   "source": [
    "class GreedyWalker(Walker):\n",
    "  def __init__(self, graph, q_0 = None, reward_tau = 0.0001, advantage = 3):\n",
    "\n",
    "    self.advantage = advantage\n",
    "    super().__init__(graph, q_0, reward_tau)\n",
    "\n",
    "  def get_greedy_favorites(self, location = ('bottom','right') ):\n",
    "    \n",
    "    favorites_nodes = []\n",
    "    if location[1] == 'right':\n",
    "      favorites_nodes.append(self.current_position + 1)\n",
    "    elif location[1] == 'left':\n",
    "      favorites_nodes.append(self.current_position - 1)\n",
    "\n",
    "    if location[0] == 'bottom':\n",
    "      favorites_nodes.append(self.current_position + self.size)\n",
    "    elif location[0] == 'top':\n",
    "      favorites_nodes.append(self.current_position - self.size)\n",
    "\n",
    "    return favorites_nodes\n",
    "\n",
    "  def update_step(self):\n",
    "    neighbors = self.graph[self.current_position]\n",
    "\n",
    "    neighbors_idx = [n for n, edge in neighbors.items()]\n",
    "    favorites = self.get_greedy_favorites()\n",
    "    weights = [ self.advantage if n in favorites else 1 for n in neighbors_idx ]\n",
    "\n",
    "\n",
    "    if self.q_0 is not None and np.random.rand() < self.q_0:\n",
    "      new_position = neighbors_idx[np.argmax(weights)]\n",
    "      # arg_max = np.argwhere(weights == np.amax(weights))\n",
    "      # new_position = np.random.choice(arg_max.flatten(), 1)[0]\n",
    "  \n",
    "    else:\n",
    "      acu_weight = sum(weights)\n",
    "      probabilities = np.array(weights)/acu_weight\n",
    "      # print(\"[INFO] curren_node: {} nodes: \\t {}\".format(self.current_position, neighbors_idx))\n",
    "      # print(\"[INFO] probabilities: \\t {}\".format(probabilities))\n",
    "\n",
    "      # choose an option following the wheel selection algorithm \n",
    "      new_position = random.choices(neighbors_idx, weights = probabilities)[0]\n",
    "      \n",
    "    self.current_path.append((self.current_position, new_position))\n",
    "    self.visited_nodes.append(new_position)\n",
    "    self.current_position = new_position\n",
    "\n",
    "  def walk(self, num_rand_walks, save = False):\n",
    "    # Create\n",
    "    distances_list = []\n",
    "\n",
    "    for i in range(int(num_rand_walks)):\n",
    "      \n",
    "      is_complete = False\n",
    "\n",
    "      while not is_complete:\n",
    "        self.update_step()\n",
    "\n",
    "        is_complete = self.end_route()\n",
    "\n",
    "      #print(\"[INFO] n_rw: {} len_path: {}\".format(i, len(walker.current_path) ))\n",
    "      distances_list.append(len(self.current_path))\n",
    "\n",
    "      self.reset_walk()\n",
    "\n",
    "    if save:\n",
    "      self.saving_np_file(distances_list, num_rand_walks)\n",
    "\n",
    "\n",
    "    return distances_list\n",
    "\n",
    "  def saving_np_file(self, distances_list, num_rand_walks):\n",
    "    output_dir = os.path.join(RANDOM_WALK_DIR,\"rw_greedy/\")\n",
    "    if not os.path.exists(output_dir):\n",
    "      os.mkdir(output_dir)\n",
    "    filename = \"rw_greedy_{}_size_{}_adv_{}_q0_{}.npz\".format(\n",
    "        num_rand_walks,\n",
    "        self.graph.size,\n",
    "        self.advantage,\n",
    "        self.q_0\n",
    "    )\n",
    "    filename = os.path.join(output_dir,filename)\n",
    "    print(\"[Saving] rw distances: \", filename)\n",
    "    np.savez(filename, \n",
    "              distances = np.array(distances_list), \n",
    "              mean_std = np.array(np.mean(distances_list),np.std(distances_list)))"
   ]
  },
  {
   "cell_type": "code",
   "execution_count": 184,
   "metadata": {
    "colab": {
     "base_uri": "https://localhost:8080/"
    },
    "executionInfo": {
     "elapsed": 233,
     "status": "ok",
     "timestamp": 1621669967519,
     "user": {
      "displayName": "Oscar Guarnizo",
      "photoUrl": "https://lh3.googleusercontent.com/a-/AOh14GheAnA882D9R56DoQ_3Y3rbrnPGkT1zqcIi2ysoQg=s64",
      "userId": "12551427865753564350"
     },
     "user_tz": 300
    },
    "id": "xL36aDosDpOt",
    "outputId": "27fa4a24-ff02-4e1a-d528-e7b4d38255f6"
   },
   "outputs": [
    {
     "name": "stdout",
     "output_type": "stream",
     "text": [
      "[Saving] rw distances:  stuff/results/aco_pp/random_walks/rw_greedy/rw_greedy_10_size_10_adv_2_q0_0.npz\n",
      "advantage: 2 q_0: 0 Mean: 51.8 Std: 17.284675293449975\n",
      "[Saving] rw distances:  stuff/results/aco_pp/random_walks/rw_greedy/rw_greedy_10_size_10_adv_2_q0_0.3.npz\n",
      "advantage: 2 q_0: 0.3 Mean: 30.0 Std: 4.8166378315169185\n",
      "[Saving] rw distances:  stuff/results/aco_pp/random_walks/rw_greedy/rw_greedy_10_size_10_adv_2_q0_0.5.npz\n",
      "advantage: 2 q_0: 0.5 Mean: 26.6 Std: 5.295280917949491\n",
      "[Saving] rw distances:  stuff/results/aco_pp/random_walks/rw_greedy/rw_greedy_10_size_10_adv_2_q0_0.7.npz\n",
      "advantage: 2 q_0: 0.7 Mean: 23.2 Std: 3.4871191548325386\n",
      "[Saving] rw distances:  stuff/results/aco_pp/random_walks/rw_greedy/rw_greedy_10_size_10_adv_2_q0_0.9.npz\n",
      "advantage: 2 q_0: 0.9 Mean: 18.8 Std: 1.32664991614216\n",
      "[Saving] rw distances:  stuff/results/aco_pp/random_walks/rw_greedy/rw_greedy_10_size_10_adv_2.5_q0_0.npz\n",
      "advantage: 2.5 q_0: 0 Mean: 37.8 Std: 9.61041102138717\n",
      "[Saving] rw distances:  stuff/results/aco_pp/random_walks/rw_greedy/rw_greedy_10_size_10_adv_2.5_q0_0.3.npz\n",
      "advantage: 2.5 q_0: 0.3 Mean: 34.0 Std: 7.155417527999327\n",
      "[Saving] rw distances:  stuff/results/aco_pp/random_walks/rw_greedy/rw_greedy_10_size_10_adv_2.5_q0_0.5.npz\n",
      "advantage: 2.5 q_0: 0.5 Mean: 26.0 Std: 3.4641016151377544\n",
      "[Saving] rw distances:  stuff/results/aco_pp/random_walks/rw_greedy/rw_greedy_10_size_10_adv_2.5_q0_0.7.npz\n",
      "advantage: 2.5 q_0: 0.7 Mean: 21.2 Std: 3.249615361854384\n",
      "[Saving] rw distances:  stuff/results/aco_pp/random_walks/rw_greedy/rw_greedy_10_size_10_adv_2.5_q0_0.9.npz\n",
      "advantage: 2.5 q_0: 0.9 Mean: 19.8 Std: 1.661324772583615\n",
      "[Saving] rw distances:  stuff/results/aco_pp/random_walks/rw_greedy/rw_greedy_10_size_10_adv_3_q0_0.npz\n",
      "advantage: 3 q_0: 0 Mean: 34.6 Std: 7.592101158440923\n",
      "[Saving] rw distances:  stuff/results/aco_pp/random_walks/rw_greedy/rw_greedy_10_size_10_adv_3_q0_0.3.npz\n",
      "advantage: 3 q_0: 0.3 Mean: 25.6 Std: 4.8\n",
      "[Saving] rw distances:  stuff/results/aco_pp/random_walks/rw_greedy/rw_greedy_10_size_10_adv_3_q0_0.5.npz\n",
      "advantage: 3 q_0: 0.5 Mean: 26.0 Std: 7.899367063252599\n",
      "[Saving] rw distances:  stuff/results/aco_pp/random_walks/rw_greedy/rw_greedy_10_size_10_adv_3_q0_0.7.npz\n",
      "advantage: 3 q_0: 0.7 Mean: 21.8 Std: 4.770744176750625\n",
      "[Saving] rw distances:  stuff/results/aco_pp/random_walks/rw_greedy/rw_greedy_10_size_10_adv_3_q0_0.9.npz\n",
      "advantage: 3 q_0: 0.9 Mean: 18.4 Std: 0.8\n"
     ]
    }
   ],
   "source": [
    "advantage_options = [2,2.5,3]\n",
    "q_0_options = [0, 0.3, 0.5, 0.7, 0.9]\n",
    "num_rand_walks = 10\n",
    "\n",
    "for advantage in advantage_options:\n",
    "  for q_0 in q_0_options:\n",
    "    # Create the graph\n",
    "    graph = ge.PPGraph(size=10, tau_0=0.1)\n",
    "\n",
    "    # Create the walker\n",
    "    walker = GreedyWalker(graph, \n",
    "                          q_0 = q_0, \n",
    "                          reward_tau = 0.0001, \n",
    "                          advantage = advantage)\n",
    "    \n",
    "    # Perform the walk\n",
    "    distances_list = walker.walk(num_rand_walks, save = True)\n",
    "    print(\"advantage: {} q_0: {} Mean: {} Std: {}\".format(\n",
    "        advantage,\n",
    "        q_0,\n",
    "        np.mean(distances_list),\n",
    "        np.std(distances_list)))"
   ]
  },
  {
   "cell_type": "code",
   "execution_count": null,
   "metadata": {
    "id": "PPw0Sz-f7sLo"
   },
   "outputs": [],
   "source": [
    "def plot_distribution_q_0(q_0_options, num_rand_walks):\n",
    "  rows = 1\n",
    "  cols = len(q_0_options)\n",
    "  inches = 5\n",
    "  fig, axs = plt.subplots(rows, cols, figsize = (cols * inches, rows * inches))\n",
    "\n",
    "  for i, q_0 in enumerate(q_0_options):\n",
    "    # Create the graph\n",
    "    graph = PPGraph(size = 10, tau_0 = 0.1)\n",
    "\n",
    "    # Create the walker\n",
    "    walker = WalkerLeftBottom(graph, reward_tau = 0.0001, q_0 = q_0)\n",
    "\n",
    "    # Perform the walk\n",
    "    distances_list = walker.walk(num_rand_walks= num_rand_walks, advantage = 2)\n",
    "    print(\"RightBottom - Mean: {} Std: {}\".format(\n",
    "        np.mean(distances_list),\n",
    "        np.std(distances_list)))\n",
    "    \n",
    "    axs[i].hist(distances_list, bins=100)\n",
    "    axs[i].set_xlabel (\"Distances\")\n",
    "    axs[i].set_ylabel(\"Counts\")\n",
    "    #title = \"Random Walk Distances Distribution\\n\"\n",
    "    title = \"{} q_0: {}\".format(\"LeftRight\", q_0)\n",
    "    axs[i].set_title(title)\n",
    "    "
   ]
  },
  {
   "cell_type": "code",
   "execution_count": null,
   "metadata": {
    "colab": {
     "base_uri": "https://localhost:8080/",
     "height": 248
    },
    "id": "5CdTwC9zsSzs",
    "outputId": "9396016f-9806-48cb-d39f-c6cdf1928b2a"
   },
   "outputs": [
    {
     "data": {
      "image/png": "[encoded data removed]",
      "text/plain": [
       "<Figure size 432x288 with 1 Axes>"
      ]
     },
     "metadata": {
      "tags": []
     },
     "output_type": "display_data"
    }
   ],
   "source": [
    "graph = PPGraph(10, 1)\n",
    "graph.draw_graph(with_labels=True)"
   ]
  },
  {
   "cell_type": "code",
   "execution_count": null,
   "metadata": {
    "colab": {
     "base_uri": "https://localhost:8080/",
     "height": 141
    },
    "id": "eGB0IIMq4xIs",
    "outputId": "aab6b321-21aa-4ce1-c2e7-a5c0c7a84049"
   },
   "outputs": [
    {
     "name": "stdout",
     "output_type": "stream",
     "text": [
      "LeftRight - Mean: 59.05012 Std: 25.74178175623436\n",
      "LeftRight - Mean: 35.90736 Std: 10.78053699174582\n",
      "LeftRight - Mean: 28.0794 Std: 6.466202567195062\n",
      "LeftRight - Mean: 22.8669 Std: 3.777645349950151\n",
      "LeftRight - Mean: 19.32122 Std: 1.7271993838581576\n"
     ]
    },
    {
     "data": {
      "image/png": "[encoded data removed]",
      "text/plain": [
       "<Figure size 1800x360 with 5 Axes>"
      ]
     },
     "metadata": {
      "needs_background": "light",
      "tags": []
     },
     "output_type": "display_data"
    }
   ],
   "source": [
    "q_0_options = [None, 0.3, 0.5, 0.7, 0.9]\n",
    "\n",
    "plot_distribution_q_0(q_0_options, num_rand_walks = 1e5)\n"
   ]
  },
  {
   "cell_type": "code",
   "execution_count": 174,
   "metadata": {
    "executionInfo": {
     "elapsed": 273,
     "status": "ok",
     "timestamp": 1621669663618,
     "user": {
      "displayName": "Oscar Guarnizo",
      "photoUrl": "https://lh3.googleusercontent.com/a-/AOh14GheAnA882D9R56DoQ_3Y3rbrnPGkT1zqcIi2ysoQg=s64",
      "userId": "12551427865753564350"
     },
     "user_tz": 300
    },
    "id": "7Ndw8drY0d9c"
   },
   "outputs": [],
   "source": [
    "class LevyFlightGreedyWalker(GreedyWalker):\n",
    "  def __init__(self, graph, q_0 = None, reward_tau = 0.0001, omega = 2, advantage = 3):\n",
    "    # omega clustering exponent\n",
    "\n",
    "    self.omega = omega # [1-3]\n",
    "\n",
    "    super().__init__(graph, q_0, reward_tau, advantage)\n",
    "\n",
    "  def wrapper_update_step(self):\n",
    "\n",
    "    # get the neighbors of the current node\n",
    "    neighbors = self.graph[self.current_position]\n",
    "    neighbors_idx = [n for n, edge in neighbors.items()]\n",
    "\n",
    "    # build a list with the possible long range connections\n",
    "    # here we do not included the neighbors nor the start node\n",
    "    # or target node\n",
    "    pos_connections = [ n for n in np.arange(self.start_node + 1, self.target_node) if n not in neighbors_idx]\n",
    "\n",
    "    long_range_node = random.choices(pos_connections)[0]\n",
    "\n",
    "    dist_current2long_range = get_distance(self.graph.nodes[long_range_node]['pos'],\n",
    "                                           self.graph.nodes[self.current_position]['pos'],\n",
    "                                           'euclidean')\n",
    "\n",
    "    if np.random.rand() < dist_current2long_range ** (- self.omega):\n",
    "      new_position = long_range_node\n",
    "      self.current_path.append((self.current_position, new_position))\n",
    "      self.visited_nodes.append(new_position)\n",
    "      self.current_position = new_position\n",
    "    else:\n",
    "      self.update_step()\n",
    "\n",
    "  def walk(self, num_rand_walks, save = False):\n",
    "    # Create\n",
    "    distances_list = []\n",
    "\n",
    "    for i in range(int(num_rand_walks)):\n",
    "      \n",
    "      is_complete = False\n",
    "\n",
    "      while not is_complete:\n",
    "        self.wrapper_update_step()\n",
    "\n",
    "        is_complete = self.end_route()\n",
    "\n",
    "      #print(\"[INFO] n_rw: {} len_path: {}\".format(i, len(walker.current_path) ))\n",
    "      distances_list.append(self.get_distance_path())\n",
    "\n",
    "      self.reset_walk()\n",
    "\n",
    "    if save:\n",
    "      self.saving_np_file(distances_list, num_rand_walks)\n",
    "    return distances_list\n",
    "\n",
    "  def saving_np_file(self, distances_list, num_rand_walks):\n",
    "    output_dir = os.path.join(RANDOM_WALK_DIR,\"rw_levy_greedy/\")\n",
    "    if not os.path.exists(output_dir):\n",
    "      os.mkdir(output_dir)\n",
    "    filename = \"rw_levy_greedy_{}_size_{}_omega_{}_adv_{}_q0_{}.npz\".format(\n",
    "        num_rand_walks,\n",
    "        self.graph.size,\n",
    "        self.omega,\n",
    "        self.advantage,\n",
    "        self.q_0\n",
    "    )\n",
    "    filename = os.path.join(output_dir,filename)\n",
    "    print(\"[Saving] rw distances: \", filename)\n",
    "    np.savez(filename, \n",
    "              distances = np.array(distances_list), \n",
    "              mean_std = np.array(np.mean(distances_list),np.std(distances_list)))"
   ]
  },
  {
   "cell_type": "code",
   "execution_count": 176,
   "metadata": {
    "colab": {
     "base_uri": "https://localhost:8080/"
    },
    "executionInfo": {
     "elapsed": 2181,
     "status": "ok",
     "timestamp": 1621669693414,
     "user": {
      "displayName": "Oscar Guarnizo",
      "photoUrl": "https://lh3.googleusercontent.com/a-/AOh14GheAnA882D9R56DoQ_3Y3rbrnPGkT1zqcIi2ysoQg=s64",
      "userId": "12551427865753564350"
     },
     "user_tz": 300
    },
    "id": "qLVkeBv57f73",
    "outputId": "9a306a29-7b1d-4594-8837-47823ae8a124"
   },
   "outputs": [
    {
     "name": "stderr",
     "output_type": "stream",
     "text": [
      "/usr/local/lib/python3.7/dist-packages/ipykernel_launcher.py:26: RuntimeWarning: divide by zero encountered in double_scalars\n"
     ]
    },
    {
     "name": "stdout",
     "output_type": "stream",
     "text": [
      "[Saving] rw distances:  stuff/results/aco_pp/random_walks/rw_levy_greedy/rw_levy_greedy_10_size_10_omega_2_adv_2_q0_0.npz\n",
      "advantage: 2 omega: 2 q_0: 0 Mean: 135.3548776601403 Std: 92.95852732227272\n",
      "[Saving] rw distances:  stuff/results/aco_pp/random_walks/rw_levy_greedy/rw_levy_greedy_10_size_10_omega_2_adv_2_q0_0.3.npz\n",
      "advantage: 2 omega: 2 q_0: 0.3 Mean: 27.902150348463636 Std: 7.196069873845758\n",
      "[Saving] rw distances:  stuff/results/aco_pp/random_walks/rw_levy_greedy/rw_levy_greedy_10_size_10_omega_2_adv_2_q0_0.5.npz\n",
      "advantage: 2 omega: 2 q_0: 0.5 Mean: 32.3369803153774 Std: 10.365556087918494\n",
      "[Saving] rw distances:  stuff/results/aco_pp/random_walks/rw_levy_greedy/rw_levy_greedy_10_size_10_omega_2_adv_2_q0_0.7.npz\n",
      "advantage: 2 omega: 2 q_0: 0.7 Mean: 30.049683694842066 Std: 11.314856726891358\n",
      "[Saving] rw distances:  stuff/results/aco_pp/random_walks/rw_levy_greedy/rw_levy_greedy_10_size_10_omega_2_adv_2_q0_0.9.npz\n",
      "advantage: 2 omega: 2 q_0: 0.9 Mean: 27.55998858348728 Std: 11.501172813213701\n",
      "[Saving] rw distances:  stuff/results/aco_pp/random_walks/rw_levy_greedy/rw_levy_greedy_10_size_10_omega_3_adv_2_q0_0.npz\n",
      "advantage: 2 omega: 3 q_0: 0 Mean: 65.44361259938572 Std: 25.698806388311183\n",
      "[Saving] rw distances:  stuff/results/aco_pp/random_walks/rw_levy_greedy/rw_levy_greedy_10_size_10_omega_3_adv_2_q0_0.3.npz\n",
      "advantage: 2 omega: 3 q_0: 0.3 Mean: 30.900015992790493 Std: 10.516629019391416\n",
      "[Saving] rw distances:  stuff/results/aco_pp/random_walks/rw_levy_greedy/rw_levy_greedy_10_size_10_omega_3_adv_2_q0_0.5.npz\n",
      "advantage: 2 omega: 3 q_0: 0.5 Mean: 30.835848547237227 Std: 6.296199036814395\n",
      "[Saving] rw distances:  stuff/results/aco_pp/random_walks/rw_levy_greedy/rw_levy_greedy_10_size_10_omega_3_adv_2_q0_0.7.npz\n",
      "advantage: 2 omega: 3 q_0: 0.7 Mean: 23.16568542494924 Std: 3.0115784258104763\n",
      "[Saving] rw distances:  stuff/results/aco_pp/random_walks/rw_levy_greedy/rw_levy_greedy_10_size_10_omega_3_adv_2_q0_0.9.npz\n",
      "advantage: 2 omega: 3 q_0: 0.9 Mean: 21.938511043598048 Std: 5.436214161535151\n",
      "[Saving] rw distances:  stuff/results/aco_pp/random_walks/rw_levy_greedy/rw_levy_greedy_10_size_10_omega_2_adv_2.5_q0_0.npz\n",
      "advantage: 2.5 omega: 2 q_0: 0 Mean: 56.216103328751124 Std: 16.581785279303315\n",
      "[Saving] rw distances:  stuff/results/aco_pp/random_walks/rw_levy_greedy/rw_levy_greedy_10_size_10_omega_2_adv_2.5_q0_0.3.npz\n",
      "advantage: 2.5 omega: 2 q_0: 0.3 Mean: 36.858048018645654 Std: 14.051773791547161\n",
      "[Saving] rw distances:  stuff/results/aco_pp/random_walks/rw_levy_greedy/rw_levy_greedy_10_size_10_omega_2_adv_2.5_q0_0.5.npz\n",
      "advantage: 2.5 omega: 2 q_0: 0.5 Mean: 30.585764710557363 Std: 6.256164421234994\n",
      "[Saving] rw distances:  stuff/results/aco_pp/random_walks/rw_levy_greedy/rw_levy_greedy_10_size_10_omega_2_adv_2.5_q0_0.7.npz\n",
      "advantage: 2.5 omega: 2 q_0: 0.7 Mean: 28.44192724209298 Std: 7.958582110373784\n",
      "[Saving] rw distances:  stuff/results/aco_pp/random_walks/rw_levy_greedy/rw_levy_greedy_10_size_10_omega_2_adv_2.5_q0_0.9.npz\n",
      "advantage: 2.5 omega: 2 q_0: 0.9 Mean: 23.593384157844532 Std: 8.496520701036486\n",
      "[Saving] rw distances:  stuff/results/aco_pp/random_walks/rw_levy_greedy/rw_levy_greedy_10_size_10_omega_3_adv_2.5_q0_0.npz\n",
      "advantage: 2.5 omega: 3 q_0: 0 Mean: 56.794863512704715 Std: 16.94340164623579\n",
      "[Saving] rw distances:  stuff/results/aco_pp/random_walks/rw_levy_greedy/rw_levy_greedy_10_size_10_omega_3_adv_2.5_q0_0.3.npz\n",
      "advantage: 2.5 omega: 3 q_0: 0.3 Mean: 36.31635146158388 Std: 13.507616742357436\n",
      "[Saving] rw distances:  stuff/results/aco_pp/random_walks/rw_levy_greedy/rw_levy_greedy_10_size_10_omega_3_adv_2.5_q0_0.5.npz\n",
      "advantage: 2.5 omega: 3 q_0: 0.5 Mean: 25.230713578936527 Std: 7.483985204867837\n",
      "[Saving] rw distances:  stuff/results/aco_pp/random_walks/rw_levy_greedy/rw_levy_greedy_10_size_10_omega_3_adv_2.5_q0_0.7.npz\n",
      "advantage: 2.5 omega: 3 q_0: 0.7 Mean: 22.195153275036382 Std: 1.7805000487288365\n",
      "[Saving] rw distances:  stuff/results/aco_pp/random_walks/rw_levy_greedy/rw_levy_greedy_10_size_10_omega_3_adv_2.5_q0_0.9.npz\n",
      "advantage: 2.5 omega: 3 q_0: 0.9 Mean: 20.93524031581311 Std: 3.641706519204865\n",
      "[Saving] rw distances:  stuff/results/aco_pp/random_walks/rw_levy_greedy/rw_levy_greedy_10_size_10_omega_2_adv_3_q0_0.npz\n",
      "advantage: 3 omega: 2 q_0: 0 Mean: 63.89294845724264 Std: 27.33936612998263\n",
      "[Saving] rw distances:  stuff/results/aco_pp/random_walks/rw_levy_greedy/rw_levy_greedy_10_size_10_omega_2_adv_3_q0_0.3.npz\n",
      "advantage: 3 omega: 2 q_0: 0.3 Mean: 44.90156742222559 Std: 23.67449875656425\n",
      "[Saving] rw distances:  stuff/results/aco_pp/random_walks/rw_levy_greedy/rw_levy_greedy_10_size_10_omega_2_adv_3_q0_0.5.npz\n",
      "advantage: 3 omega: 2 q_0: 0.5 Mean: 27.891273177122514 Std: 9.29768599243837\n",
      "[Saving] rw distances:  stuff/results/aco_pp/random_walks/rw_levy_greedy/rw_levy_greedy_10_size_10_omega_2_adv_3_q0_0.7.npz\n",
      "advantage: 3 omega: 2 q_0: 0.7 Mean: 28.35208005033919 Std: 13.392979613296033\n",
      "[Saving] rw distances:  stuff/results/aco_pp/random_walks/rw_levy_greedy/rw_levy_greedy_10_size_10_omega_2_adv_3_q0_0.9.npz\n",
      "advantage: 3 omega: 2 q_0: 0.9 Mean: 22.054592978079782 Std: 8.685285619923524\n",
      "[Saving] rw distances:  stuff/results/aco_pp/random_walks/rw_levy_greedy/rw_levy_greedy_10_size_10_omega_3_adv_3_q0_0.npz\n",
      "advantage: 3 omega: 3 q_0: 0 Mean: 39.196756060297375 Std: 10.858971561543616\n",
      "[Saving] rw distances:  stuff/results/aco_pp/random_walks/rw_levy_greedy/rw_levy_greedy_10_size_10_omega_3_adv_3_q0_0.3.npz\n",
      "advantage: 3 omega: 3 q_0: 0.3 Mean: 37.29100112683419 Std: 11.800140925663426\n",
      "[Saving] rw distances:  stuff/results/aco_pp/random_walks/rw_levy_greedy/rw_levy_greedy_10_size_10_omega_3_adv_3_q0_0.5.npz\n",
      "advantage: 3 omega: 3 q_0: 0.5 Mean: 26.206449510224598 Std: 6.48360666662323\n",
      "[Saving] rw distances:  stuff/results/aco_pp/random_walks/rw_levy_greedy/rw_levy_greedy_10_size_10_omega_3_adv_3_q0_0.7.npz\n",
      "advantage: 3 omega: 3 q_0: 0.7 Mean: 21.91622776601684 Std: 4.4184617618519875\n",
      "[Saving] rw distances:  stuff/results/aco_pp/random_walks/rw_levy_greedy/rw_levy_greedy_10_size_10_omega_3_adv_3_q0_0.9.npz\n",
      "advantage: 3 omega: 3 q_0: 0.9 Mean: 19.895741732923817 Std: 2.7401148308333796\n"
     ]
    }
   ],
   "source": [
    "advantage_options = [2,2.5,3]\n",
    "omega_options = [2,3]\n",
    "q_0_options = [0, 0.3, 0.5, 0.7, 0.9]\n",
    "num_rand_walks = 10\n",
    "\n",
    "for advantage in advantage_options:\n",
    "  for omega in omega_options:\n",
    "    for q_0 in q_0_options:\n",
    "      # Create the graph\n",
    "      graph = ge.PPGraph(size=10, tau_0=0.1)\n",
    "\n",
    "      # Create the walker\n",
    "      walker = LevyFlightGreedyWalker(graph, \n",
    "                                      q_0 = q_0, \n",
    "                                      reward_tau = 0.0001, \n",
    "                                      omega = omega, \n",
    "                                      advantage = advantage)\n",
    "     \n",
    "      # Perform the walk\n",
    "      distances_list = walker.walk(num_rand_walks, save = True)\n",
    "      print(\"advantage: {} omega: {} q_0: {} Mean: {} Std: {}\".format(\n",
    "          advantage,\n",
    "          omega,\n",
    "          q_0,\n",
    "          np.mean(distances_list),\n",
    "          np.std(distances_list)))"
   ]
  },
  {
   "cell_type": "code",
   "execution_count": 154,
   "metadata": {
    "colab": {
     "base_uri": "https://localhost:8080/",
     "height": 132
    },
    "executionInfo": {
     "elapsed": 225,
     "status": "error",
     "timestamp": 1621668582935,
     "user": {
      "displayName": "Oscar Guarnizo",
      "photoUrl": "https://lh3.googleusercontent.com/a-/AOh14GheAnA882D9R56DoQ_3Y3rbrnPGkT1zqcIi2ysoQg=s64",
      "userId": "12551427865753564350"
     },
     "user_tz": 300
    },
    "id": "DKRMDsnu7xSn",
    "outputId": "b1c34c69-0059-4968-f2ab-a7c4ced0310e"
   },
   "outputs": [
    {
     "ename": "SyntaxError",
     "evalue": "ignored",
     "output_type": "error",
     "traceback": [
      "\u001b[0;36m  File \u001b[0;32m\"<ipython-input-154-c2d2e5750048>\"\u001b[0;36m, line \u001b[0;32m19\u001b[0m\n\u001b[0;31m    pos_connections = [ n if n not in neighbors_idx for n in np.arange(self.start_node + 1, self.target_node)]\u001b[0m\n\u001b[0m                                                      ^\u001b[0m\n\u001b[0;31mSyntaxError\u001b[0m\u001b[0;31m:\u001b[0m invalid syntax\n"
     ]
    }
   ],
   "source": [
    "class WalkerLevyFlightLB(Walker):\n",
    "  def __init__(self, graph, q_0 = None, omega = 2, reward_tau = 0.0001):\n",
    "    # omega clustering exponent\n",
    "\n",
    "    self.omega = omega\n",
    "\n",
    "    super().__init__(graph, q_0, reward_tau)\n",
    "\n",
    "  def get_left_right(self):\n",
    "    return [self.current_position + 1, self.current_position + self.size]\n",
    "\n",
    "  def update_step(self, advantage = 3):\n",
    "    neighbors = self.graph[self.current_position]\n",
    "\n",
    "    neighbors_idx = [n for n, edge in neighbors.items()]\n",
    "\n",
    "    # the possible long_range connection are all except the neighbors\n",
    "    # or the start and target nodes\n",
    "    pos_connections = [ n if n not in neighbors_idx for n in np.arange(self.start_node + 1, self.target_node)]\n",
    "\n",
    "    long_range_node = random.choices(pos_connections)[0]\n",
    "\n",
    "    dist_current2long_range = get_distance(self.graph.nodes[long_range_node]['pos'],\n",
    "                                           self.graph.nodes[self.current_position]['pos'])\n",
    "\n",
    "    if np.random.rand() < dist_current2long_range ** (- self.omega):\n",
    "      new_position = long_range_node\n",
    "    else:\n",
    "      l_r = self.get_left_right()\n",
    "      weights = [ advantage if n in l_r else 1 for n in neighbors_idx ]\n",
    "\n",
    "\n",
    "      if self.q_0 is not None and np.random.rand() < self.q_0:\n",
    "        new_position = neighbors_idx[np.argmax(weights)]\n",
    "        # arg_max = np.argwhere(weights == np.amax(weights))\n",
    "        # new_position = np.random.choice(arg_max.flatten(), 1)[0]\n",
    "    \n",
    "      else:\n",
    "        acu_weight = sum(weights)\n",
    "        probabilities = np.array(weights)/acu_weight\n",
    "        # print(\"[INFO] curren_node: {} nodes: \\t {}\".format(self.current_position, neighbors_idx))\n",
    "        # print(\"[INFO] probabilities: \\t {}\".format(probabilities))\n",
    "\n",
    "        # choose an option following the wheel selection algorithm \n",
    "        new_position = random.choices(neighbors_idx, weights = probabilities)[0]\n",
    "      \n",
    "    self.current_path.append((self.current_position, new_position))\n",
    "    self.visited_nodes.append(new_position)\n",
    "    self.current_position = new_position\n",
    "\n",
    "  def walk(self, num_rand_walks, advantage = 3):\n",
    "    # Create\n",
    "    distances_list = []\n",
    "\n",
    "    for i in range(int(num_rand_walks)):\n",
    "      \n",
    "      is_complete = False\n",
    "\n",
    "      while not is_complete:\n",
    "        self.update_step(advantage)\n",
    "\n",
    "        is_complete = self.end_route()\n",
    "\n",
    "      #print(\"[INFO] n_rw: {} len_path: {}\".format(i, len(walker.current_path) ))\n",
    "      distances_list.append(self.get_distance_path())\n",
    "\n",
    "      self.reset_walk()\n",
    "\n",
    "    return distances_list"
   ]
  },
  {
   "cell_type": "markdown",
   "metadata": {
    "id": "Mv_q_7RKlYc0"
   },
   "source": [
    "Uno de los problemas sobresalientes en problemas de decision es la cantidad de estados presentes y las posibles acciones. Cuando este numero empieza a subir mucho, los algoritmos empiezan a subir problemas [consultar]. Es una area muy estudiada ttatatatat . En el presente paper se pretende estudiar este comportamiento mediante una aplicacion muestra o un escenario de juguete en donde se puede compreder de manera experimental la difficultad de alcanzar valores optimos cuando el numero de estados crece y las acciones posibles se limitan. En este caso particular se utilizo un ACO para demostrar nuestra hypothesis, que puede ser considerado a breves rasgos como un RL algorimo por su esencia de refuerzo y tal tal. Sin embargo, se pretende que sea el pilas esencial para un investigacion mas profunda de este estilo.  \n",
    "\n",
    "1. Uno de los problemas con este tipo de algoritmos parece ser la cantidad de estados que empieza a elevarse. En un ambiente libre de obstaculos resulta sencillo resolver el problema. Sin embargo a medida que se aumentan los estados y los obstaculos presentes en el ambiente el algoritmo empieza a fallar. Existen ciertas metodo que resuelven el problema desde diferentes escenarios como algoritmos por REFUERZO, .. .. .. . En este paper, la idea es implementar cierta inicializacion de fermonas con el objetivo de superar este problema. Aunque el paper abordara un problema de combinacion bastante fundamental. El paper pretende servir como un fundamento para emplear estas mismas ideas en escenarios más complejos.\n",
    "\n",
    "Hipotesis: proveer al algoritmo de cierto informacion (conocimiento) inicial por medio de la inicialización de fermonos siguiendo random walks. De cierta manera se espera que los random walks logren lidiar con el problema de estados y obstaculos y a su vez mejorar los tiempos de convergencia de los escenerios ya estudiados.\n",
    "\n",
    "En general, el presente proyecto intenta abordar el problema de planificacion de ruta o path finding. Sin embargo, se podria escalar la inicializacion por random walks a escenarios más complejos e incluso a otros enfoques como algoritmos de reinforcement learning cuya esencia es optimizar la recompensa futura in a long term. Esta en escencia relacionado al algoritmo ACO por el refuerzo que recibe de las fermonos. Sin embargo, RL algoritmos implementan algoritmos más robustos.\n",
    "\n",
    "Estudiarlo con algoritmos de refuerzo mas actuales, mas robustos donde exista cierta información suycente (como las fermonas en este caso) que aceleren el aprendizaje. Sin embargo, no necesariamente se buscaria alterar las recompensas en dichos algoritmos, ya que su actualización romperia la esencia de un algoritmo por refuerzo."
   ]
  }
 ],
 "metadata": {
  "colab": {
   "authorship_tag": "ABX9TyN5Rs0x/M9SeoAWCjWrYI//",
   "collapsed_sections": [],
   "name": "random_walks.ipynb",
   "provenance": []
  },
  "kernelspec": {
   "name": "python369jvsc74a57bd089aa3b8670af7fc29c6bfcb5c83f060a9f58c8a0b144417e6a0b5497f9f3806b",
   "display_name": "Python 3.6.9 64-bit ('aco_rw': conda)"
  },
  "language_info": {
   "codemirror_mode": {
    "name": "ipython",
    "version": 3
   },
   "file_extension": ".py",
   "mimetype": "text/x-python",
   "name": "python",
   "nbconvert_exporter": "python",
   "pygments_lexer": "ipython3",
   "version": "3.6.9"
  }
 },
 "nbformat": 4,
 "nbformat_minor": 4
}